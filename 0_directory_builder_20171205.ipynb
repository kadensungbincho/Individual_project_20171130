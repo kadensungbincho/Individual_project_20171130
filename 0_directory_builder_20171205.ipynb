{
 "cells": [
  {
   "cell_type": "code",
   "execution_count": 2,
   "metadata": {
    "collapsed": true
   },
   "outputs": [],
   "source": [
    "import pandas as pd\n",
    "df = pd.read_csv('korea_standard_industry_classification_1.csv')"
   ]
  },
  {
   "cell_type": "code",
   "execution_count": 9,
   "metadata": {
    "collapsed": true
   },
   "outputs": [],
   "source": [
    "df1 = pd.read_csv('korea_standard_industry_classification.csv')"
   ]
  },
  {
   "cell_type": "code",
   "execution_count": 21,
   "metadata": {},
   "outputs": [
    {
     "data": {
      "text/plain": [
       "'A'"
      ]
     },
     "execution_count": 21,
     "metadata": {},
     "output_type": "execute_result"
    }
   ],
   "source": [
    "df1.code[0]"
   ]
  },
  {
   "cell_type": "code",
   "execution_count": 26,
   "metadata": {},
   "outputs": [
    {
     "name": "stdout",
     "output_type": "stream",
     "text": [
      "A_agriculture_forestry_and_fishing\n",
      "B_mining_and_quarrying\n",
      "C_manufacturing\n",
      "D_electricity_gas_steam_and_air_conditioning_supply\n",
      "E_water_supply_sewage_waste_management_materials_recovery\n",
      "F_construction\n",
      "G_wholesale_and_retail_trade\n",
      "H_transportation_and_storage\n",
      "I_accommodation_and_food_service_activities\n",
      "J_information_and_communication\n",
      "K_financial_and_insurance_activities\n",
      "L_real_estate_activities\n",
      "M_professional_scientific_and_technical_activities\n",
      "N_business_facilities_management_and_business_support_services_rental_and_leasing_activities\n",
      "O_public_administration_and_defence_compulsory_social_security\n",
      "P_education\n",
      "Q_human_health_and_social_work_activities\n",
      "R_arts_sports_and_recreation_related_services\n",
      "S_membership_organizations_repair_and_other_personal_services\n",
      "T_activities_of_households_as_employers_undifferentiated_goods-and_services-producing_activities_of_households_for_own_use\n",
      "U_activities_of_extraterritorial_organizations_and_bodies\n"
     ]
    }
   ],
   "source": [
    "import re\n",
    "\n",
    "dir_list = []\n",
    "for i, dirname in enumerate(df1.name.values):\n",
    "    dirname = re.sub(r'[\\s\\,\\;]+', '_', dirname).lower()\n",
    "    print(str(df1.code[i]) + '_' + dirname)"
   ]
  },
  {
   "cell_type": "code",
   "execution_count": 28,
   "metadata": {
    "collapsed": true
   },
   "outputs": [],
   "source": [
    "import os\n",
    "\n",
    "for i, dirname in enumerate(df1.name.values):\n",
    "    dirname = re.sub(r'[\\s\\,\\;]+', '_', dirname).lower()\n",
    "    os.mkdir('./datasets/' + str(df1.code[i]) + '_' + dirname)"
   ]
  },
  {
   "cell_type": "code",
   "execution_count": null,
   "metadata": {
    "collapsed": true
   },
   "outputs": [],
   "source": []
  }
 ],
 "metadata": {
  "kernelspec": {
   "display_name": "Python 3",
   "language": "python",
   "name": "python3"
  },
  "language_info": {
   "codemirror_mode": {
    "name": "ipython",
    "version": 3
   },
   "file_extension": ".py",
   "mimetype": "text/x-python",
   "name": "python",
   "nbconvert_exporter": "python",
   "pygments_lexer": "ipython3",
   "version": "3.6.2"
  }
 },
 "nbformat": 4,
 "nbformat_minor": 2
}
