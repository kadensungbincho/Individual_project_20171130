{
 "cells": [
  {
   "cell_type": "markdown",
   "metadata": {},
   "source": [
    "# Interactive maps with bokeh"
   ]
  },
  {
   "cell_type": "markdown",
   "metadata": {},
   "source": [
    "### Line map\n",
    "1. Read the data\n",
    "2. calculate x and y coordinates\n",
    "3. convert the DataFrame into a ColumnDataSource\n",
    "4. make the map and save it"
   ]
  },
  {
   "cell_type": "code",
   "execution_count": 1,
   "metadata": {
    "collapsed": true
   },
   "outputs": [],
   "source": [
    "import geopandas as gpd"
   ]
  },
  {
   "cell_type": "code",
   "execution_count": 2,
   "metadata": {
    "collapsed": true
   },
   "outputs": [],
   "source": [
    "metro_fp = './shapely/dataE5/dataE5/metro.shp'\n",
    "metro = gpd.read_file(metro_fp)"
   ]
  },
  {
   "cell_type": "code",
   "execution_count": 3,
   "metadata": {},
   "outputs": [
    {
     "data": {
      "text/html": [
       "<div>\n",
       "<style>\n",
       "    .dataframe thead tr:only-child th {\n",
       "        text-align: right;\n",
       "    }\n",
       "\n",
       "    .dataframe thead th {\n",
       "        text-align: left;\n",
       "    }\n",
       "\n",
       "    .dataframe tbody tr th {\n",
       "        vertical-align: top;\n",
       "    }\n",
       "</style>\n",
       "<table border=\"1\" class=\"dataframe\">\n",
       "  <thead>\n",
       "    <tr style=\"text-align: right;\">\n",
       "      <th></th>\n",
       "      <th>NUMERO</th>\n",
       "      <th>SUUNTA</th>\n",
       "      <th>geometry</th>\n",
       "    </tr>\n",
       "  </thead>\n",
       "  <tbody>\n",
       "    <tr>\n",
       "      <th>0</th>\n",
       "      <td>1300M</td>\n",
       "      <td>1</td>\n",
       "      <td>LINESTRING (2561676.997249531 6681346.00195433...</td>\n",
       "    </tr>\n",
       "    <tr>\n",
       "      <th>1</th>\n",
       "      <td>1300M</td>\n",
       "      <td>2</td>\n",
       "      <td>LINESTRING (2550919.001803585 6672692.00211347...</td>\n",
       "    </tr>\n",
       "    <tr>\n",
       "      <th>2</th>\n",
       "      <td>1300M1</td>\n",
       "      <td>1</td>\n",
       "      <td>LINESTRING (2561676.997249531 6681346.00195433...</td>\n",
       "    </tr>\n",
       "    <tr>\n",
       "      <th>3</th>\n",
       "      <td>1300M1</td>\n",
       "      <td>2</td>\n",
       "      <td>LINESTRING (2559946.003624604 6678095.99842650...</td>\n",
       "    </tr>\n",
       "    <tr>\n",
       "      <th>4</th>\n",
       "      <td>1300M2</td>\n",
       "      <td>1</td>\n",
       "      <td>LINESTRING (2559946.003624604 6678095.99842650...</td>\n",
       "    </tr>\n",
       "  </tbody>\n",
       "</table>\n",
       "</div>"
      ],
      "text/plain": [
       "   NUMERO  SUUNTA                                           geometry\n",
       "0   1300M       1  LINESTRING (2561676.997249531 6681346.00195433...\n",
       "1   1300M       2  LINESTRING (2550919.001803585 6672692.00211347...\n",
       "2  1300M1       1  LINESTRING (2561676.997249531 6681346.00195433...\n",
       "3  1300M1       2  LINESTRING (2559946.003624604 6678095.99842650...\n",
       "4  1300M2       1  LINESTRING (2559946.003624604 6678095.99842650..."
      ]
     },
     "execution_count": 3,
     "metadata": {},
     "output_type": "execute_result"
    }
   ],
   "source": [
    "metro.head()"
   ]
  },
  {
   "cell_type": "code",
   "execution_count": 28,
   "metadata": {
    "collapsed": true
   },
   "outputs": [],
   "source": [
    "def getPointCoords(row, geom, coord_type):\n",
    "    \"\"\"Calculates coordinates ('x' or 'y') of a Point geometry\"\"\"\n",
    "    if coord_type == 'x':\n",
    "        return row[geom].x\n",
    "    elif coord_type == 'y':\n",
    "        return row[geom].y"
   ]
  },
  {
   "cell_type": "code",
   "execution_count": 4,
   "metadata": {
    "collapsed": true
   },
   "outputs": [],
   "source": [
    "def getLineCoords(row, geom, coord_type):\n",
    "    \"\"\"Returns a list of coordinates ('x' or 'y') of a LineString geometry\"\"\"\n",
    "    if coord_type == 'x':\n",
    "        return list( row[geom].coords.xy[0] )\n",
    "    elif coord_type == 'y':\n",
    "        return list( row[geom].coords.xy[1] )"
   ]
  },
  {
   "cell_type": "code",
   "execution_count": 7,
   "metadata": {},
   "outputs": [
    {
     "data": {
      "text/html": [
       "<div>\n",
       "<style>\n",
       "    .dataframe thead tr:only-child th {\n",
       "        text-align: right;\n",
       "    }\n",
       "\n",
       "    .dataframe thead th {\n",
       "        text-align: left;\n",
       "    }\n",
       "\n",
       "    .dataframe tbody tr th {\n",
       "        vertical-align: top;\n",
       "    }\n",
       "</style>\n",
       "<table border=\"1\" class=\"dataframe\">\n",
       "  <thead>\n",
       "    <tr style=\"text-align: right;\">\n",
       "      <th></th>\n",
       "      <th>NUMERO</th>\n",
       "      <th>SUUNTA</th>\n",
       "      <th>geometry</th>\n",
       "      <th>x</th>\n",
       "      <th>y</th>\n",
       "    </tr>\n",
       "  </thead>\n",
       "  <tbody>\n",
       "    <tr>\n",
       "      <th>0</th>\n",
       "      <td>1300M</td>\n",
       "      <td>1</td>\n",
       "      <td>LINESTRING (2561676.997249531 6681346.00195433...</td>\n",
       "      <td>[2561676.997249531, 2560202.997150008, 2560127...</td>\n",
       "      <td>[6681346.001954339, 6681016.996685321, 6680969...</td>\n",
       "    </tr>\n",
       "    <tr>\n",
       "      <th>1</th>\n",
       "      <td>1300M</td>\n",
       "      <td>2</td>\n",
       "      <td>LINESTRING (2550919.001803585 6672692.00211347...</td>\n",
       "      <td>[2550919.001803585, 2551145.9991329825, 255126...</td>\n",
       "      <td>[6672692.002113477, 6672713.997145447, 6672737...</td>\n",
       "    </tr>\n",
       "    <tr>\n",
       "      <th>2</th>\n",
       "      <td>1300M1</td>\n",
       "      <td>1</td>\n",
       "      <td>LINESTRING (2561676.997249531 6681346.00195433...</td>\n",
       "      <td>[2561676.997249531, 2560202.997150008, 2560127...</td>\n",
       "      <td>[6681346.001954339, 6681016.996685321, 6680969...</td>\n",
       "    </tr>\n",
       "    <tr>\n",
       "      <th>3</th>\n",
       "      <td>1300M1</td>\n",
       "      <td>2</td>\n",
       "      <td>LINESTRING (2559946.003624604 6678095.99842650...</td>\n",
       "      <td>[2559946.003624604, 2560094.9990514405, 256018...</td>\n",
       "      <td>[6678095.998426503, 6678179.9976436375, 667824...</td>\n",
       "    </tr>\n",
       "    <tr>\n",
       "      <th>4</th>\n",
       "      <td>1300M2</td>\n",
       "      <td>1</td>\n",
       "      <td>LINESTRING (2559946.003624604 6678095.99842650...</td>\n",
       "      <td>[2559946.003624604, 2559644.0031698933, 255947...</td>\n",
       "      <td>[6678095.998426503, 6678008.998522878, 6677957...</td>\n",
       "    </tr>\n",
       "  </tbody>\n",
       "</table>\n",
       "</div>"
      ],
      "text/plain": [
       "   NUMERO  SUUNTA                                           geometry  \\\n",
       "0   1300M       1  LINESTRING (2561676.997249531 6681346.00195433...   \n",
       "1   1300M       2  LINESTRING (2550919.001803585 6672692.00211347...   \n",
       "2  1300M1       1  LINESTRING (2561676.997249531 6681346.00195433...   \n",
       "3  1300M1       2  LINESTRING (2559946.003624604 6678095.99842650...   \n",
       "4  1300M2       1  LINESTRING (2559946.003624604 6678095.99842650...   \n",
       "\n",
       "                                                   x  \\\n",
       "0  [2561676.997249531, 2560202.997150008, 2560127...   \n",
       "1  [2550919.001803585, 2551145.9991329825, 255126...   \n",
       "2  [2561676.997249531, 2560202.997150008, 2560127...   \n",
       "3  [2559946.003624604, 2560094.9990514405, 256018...   \n",
       "4  [2559946.003624604, 2559644.0031698933, 255947...   \n",
       "\n",
       "                                                   y  \n",
       "0  [6681346.001954339, 6681016.996685321, 6680969...  \n",
       "1  [6672692.002113477, 6672713.997145447, 6672737...  \n",
       "2  [6681346.001954339, 6681016.996685321, 6680969...  \n",
       "3  [6678095.998426503, 6678179.9976436375, 667824...  \n",
       "4  [6678095.998426503, 6678008.998522878, 6677957...  "
      ]
     },
     "execution_count": 7,
     "metadata": {},
     "output_type": "execute_result"
    }
   ],
   "source": [
    "metro['x'] = metro.apply(getLineCoords, geom='geometry', coord_type='x', axis=1)\n",
    "metro['y'] = metro.apply(getLineCoords, geom='geometry', coord_type='y', axis=1)\n",
    "metro.head()"
   ]
  },
  {
   "cell_type": "code",
   "execution_count": 9,
   "metadata": {},
   "outputs": [
    {
     "data": {
      "text/plain": [
       "103"
      ]
     },
     "execution_count": 9,
     "metadata": {},
     "output_type": "execute_result"
    }
   ],
   "source": [
    "len(metro.x[0])"
   ]
  },
  {
   "cell_type": "code",
   "execution_count": 10,
   "metadata": {},
   "outputs": [
    {
     "data": {
      "text/plain": [
       "16"
      ]
     },
     "execution_count": 10,
     "metadata": {},
     "output_type": "execute_result"
    }
   ],
   "source": [
    "len(metro.x)"
   ]
  },
  {
   "cell_type": "code",
   "execution_count": 11,
   "metadata": {
    "collapsed": true
   },
   "outputs": [],
   "source": [
    "m_df = metro.drop('geometry', axis=1).copy()"
   ]
  },
  {
   "cell_type": "code",
   "execution_count": 13,
   "metadata": {
    "collapsed": true
   },
   "outputs": [],
   "source": [
    "from bokeh.plotting import figure, save\n",
    "from bokeh.models import ColumnDataSource\n",
    "\n",
    "msource = ColumnDataSource(m_df)"
   ]
  },
  {
   "cell_type": "code",
   "execution_count": 14,
   "metadata": {},
   "outputs": [
    {
     "data": {
      "text/plain": [
       "bokeh.models.sources.ColumnDataSource"
      ]
     },
     "execution_count": 14,
     "metadata": {},
     "output_type": "execute_result"
    }
   ],
   "source": [
    "type(msource)"
   ]
  },
  {
   "cell_type": "code",
   "execution_count": 16,
   "metadata": {},
   "outputs": [
    {
     "name": "stderr",
     "output_type": "stream",
     "text": [
      "/home/dockeruser/anaconda3/lib/python3.6/site-packages/bokeh/io.py:419: UserWarning: save() called but no resources were supplied and output_file(...) was never called, defaulting to resources.CDN\n",
      "  warnings.warn(\"save() called but no resources were supplied and output_file(...) was never called, defaulting to resources.CDN\")\n",
      "/home/dockeruser/anaconda3/lib/python3.6/site-packages/bokeh/io.py:429: UserWarning: save() called but no title was supplied and output_file(...) was never called, using default title 'Bokeh Plot'\n",
      "  warnings.warn(\"save() called but no title was supplied and output_file(...) was never called, using default title 'Bokeh Plot'\")\n"
     ]
    },
    {
     "data": {
      "text/plain": [
       "'/home/dockeruser/hostname/workspace/git/kaden/individual_project_20171130/shapely/dataE5/dataE5/metro_map.html'"
      ]
     },
     "execution_count": 16,
     "metadata": {},
     "output_type": "execute_result"
    }
   ],
   "source": [
    "p = figure(title=\"A map of the Helsinki metro\")\n",
    "\n",
    "p.multi_line('x', 'y', source=msource, color='red', line_width=3)\n",
    "\n",
    "outfp = './shapely/dataE5/dataE5/metro_map.html'\n",
    "\n",
    "save(p, outfp)"
   ]
  },
  {
   "cell_type": "markdown",
   "metadata": {},
   "source": [
    "### Polygon map with Points and Lines"
   ]
  },
  {
   "cell_type": "code",
   "execution_count": 17,
   "metadata": {
    "collapsed": true
   },
   "outputs": [],
   "source": [
    "from bokeh.plotting import figure, save\n",
    "from bokeh.models import ColumnDataSource, HoverTool, LogColorMapper\n",
    "import geopandas as gpd\n",
    "import pysal as ps"
   ]
  },
  {
   "cell_type": "code",
   "execution_count": 18,
   "metadata": {},
   "outputs": [
    {
     "name": "stderr",
     "output_type": "stream",
     "text": [
      "INFO:Fiona:Failed to auto identify EPSG: 7\n"
     ]
    }
   ],
   "source": [
    "grid_fp = r'./shapely/dataE5/dataE5/TravelTimes_to_5975375_RailwayStation.shp'\n",
    "point_fp = r'./shapely/dataE5/dataE5/addresses.shp'\n",
    "metro_fp = r'./shapely/dataE5/dataE5/metro.shp'\n",
    "\n",
    "grid = gpd.read_file(grid_fp)\n",
    "points = gpd.read_file(point_fp)\n",
    "metro = gpd.read_file(metro_fp)"
   ]
  },
  {
   "cell_type": "code",
   "execution_count": 20,
   "metadata": {},
   "outputs": [
    {
     "name": "stdout",
     "output_type": "stream",
     "text": [
      "{'init': 'epsg:3067'}\n"
     ]
    }
   ],
   "source": [
    "CRS = grid.crs\n",
    "print(CRS)"
   ]
  },
  {
   "cell_type": "code",
   "execution_count": 21,
   "metadata": {
    "collapsed": true
   },
   "outputs": [],
   "source": [
    "points['geometry'] = points['geometry'].to_crs(crs=CRS)\n",
    "metro['geometry'] = metro['geometry'].to_crs(crs=CRS)"
   ]
  },
  {
   "cell_type": "code",
   "execution_count": 23,
   "metadata": {},
   "outputs": [
    {
     "data": {
      "text/plain": [
       "0    POINT (385149.4478367225 6671962.669661295)\n",
       "Name: geometry, dtype: object"
      ]
     },
     "execution_count": 23,
     "metadata": {},
     "output_type": "execute_result"
    }
   ],
   "source": [
    "points['geometry'].head(1)"
   ]
  },
  {
   "cell_type": "code",
   "execution_count": 24,
   "metadata": {},
   "outputs": [
    {
     "data": {
      "text/plain": [
       "0    LINESTRING (395534.7026002127 6679490.08463068...\n",
       "Name: geometry, dtype: object"
      ]
     },
     "execution_count": 24,
     "metadata": {},
     "output_type": "execute_result"
    }
   ],
   "source": [
    "metro['geometry'].head(1)"
   ]
  },
  {
   "cell_type": "code",
   "execution_count": 25,
   "metadata": {},
   "outputs": [
    {
     "data": {
      "text/plain": [
       "0    POLYGON ((382000.0001358641 6697750.000038058,...\n",
       "Name: geometry, dtype: object"
      ]
     },
     "execution_count": 25,
     "metadata": {},
     "output_type": "execute_result"
    }
   ],
   "source": [
    "grid['geometry'].head(1)"
   ]
  },
  {
   "cell_type": "code",
   "execution_count": 26,
   "metadata": {
    "collapsed": true
   },
   "outputs": [],
   "source": [
    "def getPolyCoords(row, geom, coord_type):\n",
    "    \"\"\"Returns the coordinates ('x' or 'y') of edges of a Polygon exterior\"\"\"\n",
    "\n",
    "    # Parse the exterior of the coordinate\n",
    "    exterior = row[geom].exterior\n",
    "\n",
    "    if coord_type == 'x':\n",
    "        # Get the x coordinates of the exterior\n",
    "        return list( exterior.coords.xy[0] )\n",
    "    elif coord_type == 'y':\n",
    "        # Get the y coordinates of the exterior\n",
    "        return list( exterior.coords.xy[1] )"
   ]
  },
  {
   "cell_type": "code",
   "execution_count": 29,
   "metadata": {
    "collapsed": true
   },
   "outputs": [],
   "source": [
    "# Get the Polygon x and y coordinates\n",
    "grid['x'] = grid.apply(getPolyCoords, geom='geometry', coord_type='x', axis=1)\n",
    "grid['y'] = grid.apply(getPolyCoords, geom='geometry', coord_type='y', axis=1)\n",
    "\n",
    "# Calculate x and y coordinates of the line\n",
    "metro['x'] = metro.apply(getLineCoords, geom='geometry', coord_type='x', axis=1)\n",
    "metro['y'] = metro.apply(getLineCoords, geom='geometry', coord_type='y', axis=1)\n",
    "\n",
    "# Calculate x and y coordinates of the points\n",
    "points['x'] = points.apply(getPointCoords, geom='geometry', coord_type='x', axis=1)\n",
    "points['y'] = points.apply(getPointCoords, geom='geometry', coord_type='y', axis=1)"
   ]
  },
  {
   "cell_type": "code",
   "execution_count": 34,
   "metadata": {},
   "outputs": [
    {
     "data": {
      "text/plain": [
       "[382000.00013586413,\n",
       " 381750.0001359122,\n",
       " 381750.00013590575,\n",
       " 382000.0001358568,\n",
       " 382000.00013586413]"
      ]
     },
     "execution_count": 34,
     "metadata": {},
     "output_type": "execute_result"
    }
   ],
   "source": [
    "grid.x[0]"
   ]
  },
  {
   "cell_type": "code",
   "execution_count": 30,
   "metadata": {},
   "outputs": [
    {
     "data": {
      "text/html": [
       "<div>\n",
       "<style>\n",
       "    .dataframe thead tr:only-child th {\n",
       "        text-align: right;\n",
       "    }\n",
       "\n",
       "    .dataframe thead th {\n",
       "        text-align: left;\n",
       "    }\n",
       "\n",
       "    .dataframe tbody tr th {\n",
       "        vertical-align: top;\n",
       "    }\n",
       "</style>\n",
       "<table border=\"1\" class=\"dataframe\">\n",
       "  <thead>\n",
       "    <tr style=\"text-align: right;\">\n",
       "      <th></th>\n",
       "      <th>x</th>\n",
       "      <th>y</th>\n",
       "    </tr>\n",
       "  </thead>\n",
       "  <tbody>\n",
       "    <tr>\n",
       "      <th>0</th>\n",
       "      <td>[382000.00013586413, 381750.0001359122, 381750...</td>\n",
       "      <td>[6697750.000038058, 6697750.000038066, 6698000...</td>\n",
       "    </tr>\n",
       "    <tr>\n",
       "      <th>1</th>\n",
       "      <td>[382250.0001358146, 382000.00013586413, 382000...</td>\n",
       "      <td>[6697750.000038053, 6697750.000038058, 6698000...</td>\n",
       "    </tr>\n",
       "  </tbody>\n",
       "</table>\n",
       "</div>"
      ],
      "text/plain": [
       "                                                   x  \\\n",
       "0  [382000.00013586413, 381750.0001359122, 381750...   \n",
       "1  [382250.0001358146, 382000.00013586413, 382000...   \n",
       "\n",
       "                                                   y  \n",
       "0  [6697750.000038058, 6697750.000038066, 6698000...  \n",
       "1  [6697750.000038053, 6697750.000038058, 6698000...  "
      ]
     },
     "execution_count": 30,
     "metadata": {},
     "output_type": "execute_result"
    }
   ],
   "source": [
    "grid[['x', 'y']].head(2)"
   ]
  },
  {
   "cell_type": "code",
   "execution_count": 31,
   "metadata": {},
   "outputs": [
    {
     "data": {
      "text/html": [
       "<div>\n",
       "<style>\n",
       "    .dataframe thead tr:only-child th {\n",
       "        text-align: right;\n",
       "    }\n",
       "\n",
       "    .dataframe thead th {\n",
       "        text-align: left;\n",
       "    }\n",
       "\n",
       "    .dataframe tbody tr th {\n",
       "        vertical-align: top;\n",
       "    }\n",
       "</style>\n",
       "<table border=\"1\" class=\"dataframe\">\n",
       "  <thead>\n",
       "    <tr style=\"text-align: right;\">\n",
       "      <th></th>\n",
       "      <th>x</th>\n",
       "      <th>y</th>\n",
       "    </tr>\n",
       "  </thead>\n",
       "  <tbody>\n",
       "    <tr>\n",
       "      <th>0</th>\n",
       "      <td>[395534.70260021265, 394047.81013838784, 39396...</td>\n",
       "      <td>[6679490.084630681, 6679228.490560529, 6679185...</td>\n",
       "    </tr>\n",
       "    <tr>\n",
       "      <th>1</th>\n",
       "      <td>[384398.5021810767, 384626.19157614314, 384746...</td>\n",
       "      <td>[6671336.407362772, 6671348.068805486, 6671365...</td>\n",
       "    </tr>\n",
       "  </tbody>\n",
       "</table>\n",
       "</div>"
      ],
      "text/plain": [
       "                                                   x  \\\n",
       "0  [395534.70260021265, 394047.81013838784, 39396...   \n",
       "1  [384398.5021810767, 384626.19157614314, 384746...   \n",
       "\n",
       "                                                   y  \n",
       "0  [6679490.084630681, 6679228.490560529, 6679185...  \n",
       "1  [6671336.407362772, 6671348.068805486, 6671365...  "
      ]
     },
     "execution_count": 31,
     "metadata": {},
     "output_type": "execute_result"
    }
   ],
   "source": [
    "metro[['x', 'y']].head(2)"
   ]
  },
  {
   "cell_type": "code",
   "execution_count": 32,
   "metadata": {},
   "outputs": [
    {
     "data": {
      "text/html": [
       "<div>\n",
       "<style>\n",
       "    .dataframe thead tr:only-child th {\n",
       "        text-align: right;\n",
       "    }\n",
       "\n",
       "    .dataframe thead th {\n",
       "        text-align: left;\n",
       "    }\n",
       "\n",
       "    .dataframe tbody tr th {\n",
       "        vertical-align: top;\n",
       "    }\n",
       "</style>\n",
       "<table border=\"1\" class=\"dataframe\">\n",
       "  <thead>\n",
       "    <tr style=\"text-align: right;\">\n",
       "      <th></th>\n",
       "      <th>x</th>\n",
       "      <th>y</th>\n",
       "    </tr>\n",
       "  </thead>\n",
       "  <tbody>\n",
       "    <tr>\n",
       "      <th>0</th>\n",
       "      <td>385149.447837</td>\n",
       "      <td>6.671963e+06</td>\n",
       "    </tr>\n",
       "    <tr>\n",
       "      <th>1</th>\n",
       "      <td>385804.985388</td>\n",
       "      <td>6.672109e+06</td>\n",
       "    </tr>\n",
       "  </tbody>\n",
       "</table>\n",
       "</div>"
      ],
      "text/plain": [
       "               x             y\n",
       "0  385149.447837  6.671963e+06\n",
       "1  385804.985388  6.672109e+06"
      ]
     },
     "execution_count": 32,
     "metadata": {},
     "output_type": "execute_result"
    }
   ],
   "source": [
    "points[['x', 'y']].head(2)"
   ]
  },
  {
   "cell_type": "markdown",
   "metadata": {},
   "source": [
    "- Let’s now classify the travel times of our grid int 5 minute intervals until 200 minutes using a pysal classifier called User_Defined that allows to set our own criteria for class intervals. But first we need to replace the No Data values with a large number so that they wouldn’t be seen as the “best” accessible areas."
   ]
  },
  {
   "cell_type": "code",
   "execution_count": 36,
   "metadata": {
    "collapsed": true
   },
   "outputs": [],
   "source": [
    "# Replace No Data values (-1) with large number (999)\n",
    "grid = grid.replace(-1, 999)\n",
    "\n",
    "# Classify our travel times into 5 minute classes until 200 minutes\n",
    "# Create a list of values where minumum value is 5, maximum value is 200 and step is 5.\n",
    "breaks = [x for x in range(5, 200, 5)]\n",
    "\n",
    "# Initialize the classifier and apply it\n",
    "classifier = ps.User_Defined.make(bins=breaks)\n",
    "pt_classif = grid[['pt_r_tt']].apply(classifier)\n",
    "\n",
    "# Rename the classified column\n",
    "pt_classif.columns = ['pt_r_tt_ud']\n",
    "\n",
    "# Join it back to the grid layer\n",
    "grid = grid.join(pt_classif)\n"
   ]
  },
  {
   "cell_type": "code",
   "execution_count": 38,
   "metadata": {},
   "outputs": [
    {
     "data": {
      "text/html": [
       "<div>\n",
       "<style>\n",
       "    .dataframe thead tr:only-child th {\n",
       "        text-align: right;\n",
       "    }\n",
       "\n",
       "    .dataframe thead th {\n",
       "        text-align: left;\n",
       "    }\n",
       "\n",
       "    .dataframe tbody tr th {\n",
       "        vertical-align: top;\n",
       "    }\n",
       "</style>\n",
       "<table border=\"1\" class=\"dataframe\">\n",
       "  <thead>\n",
       "    <tr style=\"text-align: right;\">\n",
       "      <th></th>\n",
       "      <th>car_m_d</th>\n",
       "      <th>car_m_t</th>\n",
       "      <th>car_r_d</th>\n",
       "      <th>car_r_t</th>\n",
       "      <th>from_id</th>\n",
       "      <th>pt_m_d</th>\n",
       "      <th>pt_m_t</th>\n",
       "      <th>pt_m_tt</th>\n",
       "      <th>pt_r_d</th>\n",
       "      <th>pt_r_t</th>\n",
       "      <th>pt_r_tt</th>\n",
       "      <th>to_id</th>\n",
       "      <th>walk_d</th>\n",
       "      <th>walk_t</th>\n",
       "      <th>geometry</th>\n",
       "      <th>x</th>\n",
       "      <th>y</th>\n",
       "      <th>pt_r_tt_ud</th>\n",
       "    </tr>\n",
       "  </thead>\n",
       "  <tbody>\n",
       "    <tr>\n",
       "      <th>0</th>\n",
       "      <td>32297</td>\n",
       "      <td>43</td>\n",
       "      <td>32260</td>\n",
       "      <td>48</td>\n",
       "      <td>5785640</td>\n",
       "      <td>32616</td>\n",
       "      <td>116</td>\n",
       "      <td>147</td>\n",
       "      <td>32616</td>\n",
       "      <td>108</td>\n",
       "      <td>139</td>\n",
       "      <td>5975375</td>\n",
       "      <td>32164</td>\n",
       "      <td>459</td>\n",
       "      <td>POLYGON ((382000.0001358641 6697750.000038058,...</td>\n",
       "      <td>[382000.00013586413, 381750.0001359122, 381750...</td>\n",
       "      <td>[6697750.000038058, 6697750.000038066, 6698000...</td>\n",
       "      <td>27</td>\n",
       "    </tr>\n",
       "    <tr>\n",
       "      <th>1</th>\n",
       "      <td>32508</td>\n",
       "      <td>43</td>\n",
       "      <td>32471</td>\n",
       "      <td>49</td>\n",
       "      <td>5785641</td>\n",
       "      <td>32822</td>\n",
       "      <td>119</td>\n",
       "      <td>145</td>\n",
       "      <td>32822</td>\n",
       "      <td>111</td>\n",
       "      <td>133</td>\n",
       "      <td>5975375</td>\n",
       "      <td>29547</td>\n",
       "      <td>422</td>\n",
       "      <td>POLYGON ((382250.0001358146 6697750.000038053,...</td>\n",
       "      <td>[382250.0001358146, 382000.00013586413, 382000...</td>\n",
       "      <td>[6697750.000038053, 6697750.000038058, 6698000...</td>\n",
       "      <td>26</td>\n",
       "    </tr>\n",
       "  </tbody>\n",
       "</table>\n",
       "</div>"
      ],
      "text/plain": [
       "   car_m_d  car_m_t  car_r_d  car_r_t  from_id  pt_m_d  pt_m_t  pt_m_tt  \\\n",
       "0    32297       43    32260       48  5785640   32616     116      147   \n",
       "1    32508       43    32471       49  5785641   32822     119      145   \n",
       "\n",
       "   pt_r_d  pt_r_t  pt_r_tt    to_id  walk_d  walk_t  \\\n",
       "0   32616     108      139  5975375   32164     459   \n",
       "1   32822     111      133  5975375   29547     422   \n",
       "\n",
       "                                            geometry  \\\n",
       "0  POLYGON ((382000.0001358641 6697750.000038058,...   \n",
       "1  POLYGON ((382250.0001358146 6697750.000038053,...   \n",
       "\n",
       "                                                   x  \\\n",
       "0  [382000.00013586413, 381750.0001359122, 381750...   \n",
       "1  [382250.0001358146, 382000.00013586413, 382000...   \n",
       "\n",
       "                                                   y  pt_r_tt_ud  \n",
       "0  [6697750.000038058, 6697750.000038066, 6698000...          27  \n",
       "1  [6697750.000038053, 6697750.000038058, 6698000...          26  "
      ]
     },
     "execution_count": 38,
     "metadata": {},
     "output_type": "execute_result"
    }
   ],
   "source": [
    "grid.head(2)"
   ]
  },
  {
   "cell_type": "markdown",
   "metadata": {},
   "source": [
    "- Okey, so we have many columns but the new one that we just got is the last one, i.e. pt_r_tt_ud that contains the classes that we reclassified based on the public transportation travel times on 5 minute intervals."
   ]
  },
  {
   "cell_type": "code",
   "execution_count": 39,
   "metadata": {
    "collapsed": true
   },
   "outputs": [],
   "source": [
    "# Make a copy, drop the geometry column and create ColumnDataSource\n",
    "m_df = metro.drop('geometry', axis=1).copy()\n",
    "msource = ColumnDataSource(m_df)\n",
    "\n",
    "# Make a copy, drop the geometry column and create ColumnDataSource\n",
    "p_df = points.drop('geometry', axis=1).copy()\n",
    "psource = ColumnDataSource(p_df)\n",
    "\n",
    "# Make a copy, drop the geometry column and create ColumnDataSource\n",
    "g_df = grid.drop('geometry', axis=1).copy()\n",
    "gsource = ColumnDataSource(g_df)"
   ]
  },
  {
   "cell_type": "markdown",
   "metadata": {},
   "source": [
    "> http://bokeh.pydata.org/en/latest/docs/reference/palettes.html#bokeh-palettes\n",
    "> - **4th step**: For visualizing the Polygons we need to define the color palette that we are going to use. There are many different ones available but we are now going to use a palette called RdYlBu and use eleven color-classes for the values (defined as RdYlBu11). Let’s prepare our color_mapper."
   ]
  },
  {
   "cell_type": "code",
   "execution_count": 40,
   "metadata": {
    "collapsed": true
   },
   "outputs": [],
   "source": [
    "# Let's first do some coloring magic that converts the color palet into map numbers (it's okey not to understand)\n",
    "from bokeh.palettes import RdYlBu11 as palette\n",
    "from bokeh.models import LogColorMapper\n",
    "\n",
    "# Create the color mapper\n",
    "color_mapper = LogColorMapper(palette=palette)"
   ]
  },
  {
   "cell_type": "code",
   "execution_count": 41,
   "metadata": {},
   "outputs": [
    {
     "name": "stderr",
     "output_type": "stream",
     "text": [
      "/home/dockeruser/anaconda3/lib/python3.6/site-packages/bokeh/io.py:419: UserWarning: save() called but no resources were supplied and output_file(...) was never called, defaulting to resources.CDN\n",
      "  warnings.warn(\"save() called but no resources were supplied and output_file(...) was never called, defaulting to resources.CDN\")\n",
      "/home/dockeruser/anaconda3/lib/python3.6/site-packages/bokeh/io.py:429: UserWarning: save() called but no title was supplied and output_file(...) was never called, using default title 'Bokeh Plot'\n",
      "  warnings.warn(\"save() called but no title was supplied and output_file(...) was never called, using default title 'Bokeh Plot'\")\n"
     ]
    },
    {
     "data": {
      "text/plain": [
       "'/home/dockeruser/hostname/workspace/git/kaden/individual_project_20171130/shapely/dataE5/dataE5/travel_time_map.html'"
      ]
     },
     "execution_count": 41,
     "metadata": {},
     "output_type": "execute_result"
    }
   ],
   "source": [
    "# Initialize our figure\n",
    "p = figure(title=\"Travel times with Public transportation to Central Railway station\")\n",
    "\n",
    "# Plot grid\n",
    "p.patches('x', 'y', source=gsource,\n",
    "         fill_color={'field': 'pt_r_tt_ud', 'transform': color_mapper},\n",
    "         fill_alpha=1.0, line_color=\"black\", line_width=0.05)\n",
    "\n",
    "# Add metro on top of the same figure\n",
    "p.multi_line('x', 'y', source=msource, color=\"red\", line_width=2)\n",
    "\n",
    "# Add points on top (as black points)\n",
    "p.circle('x', 'y', size=3, source=psource, color=\"black\")\n",
    "\n",
    "# Save the figure\n",
    "outfp = './shapely/dataE5/dataE5/travel_time_map.html'\n",
    "save(p, outfp)"
   ]
  },
  {
   "cell_type": "markdown",
   "metadata": {},
   "source": [
    "- Visualizaing details : https://automating-gis-processes.github.io/Lesson5-interactive-map-Bokeh-advanced-plotting.html"
   ]
  },
  {
   "cell_type": "markdown",
   "metadata": {},
   "source": [
    "# Interactive maps on Leaflet"
   ]
  },
  {
   "cell_type": "markdown",
   "metadata": {},
   "source": [
    "- Whenever you go into a website that has some kind of interactive map, it is quite probable that you are wittnessing a map that has been made with a JavaScipt library called Leaflet (the other popular one that you might have wittnessed is called OpenLayers).\n",
    "- Leaflet : http://leafletjs.com/\n",
    "- OpenLayers : https://openlayers.org/\n",
    "- Folium : https://github.com/python-visualization/folium"
   ]
  },
  {
   "cell_type": "code",
   "execution_count": 43,
   "metadata": {
    "collapsed": true
   },
   "outputs": [],
   "source": [
    "import folium"
   ]
  },
  {
   "cell_type": "code",
   "execution_count": 56,
   "metadata": {
    "collapsed": true
   },
   "outputs": [],
   "source": [
    "map_osm = folium.Map(location=[60.25, 24.8], tiles='Stamen Toner',\n",
    "                   zoom_start=10, control_scale=True)"
   ]
  },
  {
   "cell_type": "markdown",
   "metadata": {},
   "source": [
    "> The first parameter location takes a pair of lat, lon values as list as an input which will determine where the map will be positioned when user opens up the map. zoom_start -parameter adjusts the default zoom-level for the map (the higher the number the closer the zoom is). control_scale defines if map should have a scalebar or not."
   ]
  },
  {
   "cell_type": "code",
   "execution_count": 45,
   "metadata": {
    "collapsed": true
   },
   "outputs": [],
   "source": [
    "outfp = \"./shapely/Processed_data/base_map.html\"\n",
    "m.save(outfp)"
   ]
  },
  {
   "cell_type": "code",
   "execution_count": 46,
   "metadata": {
    "collapsed": true
   },
   "outputs": [],
   "source": [
    "# Let's change the basemap style to 'Stamen Toner'\n",
    "m = folium.Map(location=[37.54205, 126.86598], tiles='Stamen Toner',\n",
    "                zoom_start=12, control_scale=True, prefer_canvas=True)\n",
    "\n",
    "# Filepath to the output\n",
    "outfp = \"./shapely/Processed_data/base_map_seoul.html\"\n",
    "\n",
    "# Save the map\n",
    "m.save(outfp)"
   ]
  },
  {
   "cell_type": "code",
   "execution_count": 49,
   "metadata": {},
   "outputs": [
    {
     "name": "stderr",
     "output_type": "stream",
     "text": [
      "INFO:Fiona:Failed to auto identify EPSG: 7\n"
     ]
    }
   ],
   "source": [
    "from fiona.crs import from_epsg\n",
    "\n",
    "# Filepaths\n",
    "fp = \"./shapely/Vaestotietoruudukko_2015/Vaestotietoruudukko_2015.shp\"\n",
    "addr_fp = \"./shapely/dataE5/dataE5/addresses.shp\"\n",
    "\n",
    "# Read Data\n",
    "data = gpd.read_file(fp)\n",
    "ad = gpd.read_file(addr_fp)\n",
    "\n",
    "# Re-project to WGS84\n",
    "data['geometry'] = data['geometry'].to_crs(epsg=4326)\n",
    "ad['geometry'] = ad['geometry'].to_crs(epsg=4326)\n",
    "\n",
    "# Update the CRS of the GeoDataFrame\n",
    "data.crs = from_epsg(4326)\n",
    "ad.crs = from_epsg(4326)\n",
    "\n",
    "# Make a selection (only data above 0 and below 1000)\n",
    "data = data.loc[(data['ASUKKAITA'] > 0) & (data['ASUKKAITA'] <= 1000)]\n",
    "\n",
    "# Create a Geo-id which is needed by the Folium (it needs to have a unique identifier for each row)\n",
    "data['geoid'] = data.index.astype(str)\n",
    "ad['geoid'] = ad.index.astype(str)\n",
    "\n",
    "# Select data\n",
    "data = data[['geoid', 'ASUKKAITA', 'geometry']]\n",
    "\n",
    "# Save the file as geojson\n",
    "jsontxt = data.to_json()"
   ]
  },
  {
   "cell_type": "markdown",
   "metadata": {},
   "source": [
    "> - Now we have our population data stored in the jsontxt variable as GeoJSON format which basically contains the data as text in a similar way that it would be written in the .geojson -file.\n",
    "\n",
    "Now we can start visualizing our data with Folium."
   ]
  },
  {
   "cell_type": "code",
   "execution_count": 51,
   "metadata": {},
   "outputs": [
    {
     "data": {
      "text/plain": [
       "'0.5.0'"
      ]
     },
     "execution_count": 51,
     "metadata": {},
     "output_type": "execute_result"
    }
   ],
   "source": [
    "folium.__version__"
   ]
  },
  {
   "cell_type": "code",
   "execution_count": 55,
   "metadata": {
    "collapsed": true
   },
   "outputs": [
    {
     "data": {
      "text/html": [
       "<div>\n",
       "<style>\n",
       "    .dataframe thead tr:only-child th {\n",
       "        text-align: right;\n",
       "    }\n",
       "\n",
       "    .dataframe thead th {\n",
       "        text-align: left;\n",
       "    }\n",
       "\n",
       "    .dataframe tbody tr th {\n",
       "        vertical-align: top;\n",
       "    }\n",
       "</style>\n",
       "<table border=\"1\" class=\"dataframe\">\n",
       "  <thead>\n",
       "    <tr style=\"text-align: right;\">\n",
       "      <th></th>\n",
       "      <th>geoid</th>\n",
       "      <th>ASUKKAITA</th>\n",
       "      <th>geometry</th>\n",
       "    </tr>\n",
       "  </thead>\n",
       "  <tbody>\n",
       "    <tr>\n",
       "      <th>0</th>\n",
       "      <td>0</td>\n",
       "      <td>8</td>\n",
       "      <td>POLYGON ((24.50236241370834 60.31927864851716,...</td>\n",
       "    </tr>\n",
       "    <tr>\n",
       "      <th>1</th>\n",
       "      <td>1</td>\n",
       "      <td>6</td>\n",
       "      <td>POLYGON ((24.50287385337343 60.28562263749414,...</td>\n",
       "    </tr>\n",
       "    <tr>\n",
       "      <th>2</th>\n",
       "      <td>2</td>\n",
       "      <td>8</td>\n",
       "      <td>POLYGON ((24.50311210582754 60.26991652312412,...</td>\n",
       "    </tr>\n",
       "    <tr>\n",
       "      <th>3</th>\n",
       "      <td>3</td>\n",
       "      <td>7</td>\n",
       "      <td>POLYGON ((24.50314612020954 60.26767278939882,...</td>\n",
       "    </tr>\n",
       "    <tr>\n",
       "      <th>4</th>\n",
       "      <td>4</td>\n",
       "      <td>19</td>\n",
       "      <td>POLYGON ((24.50328212493893 60.25869775697638,...</td>\n",
       "    </tr>\n",
       "    <tr>\n",
       "      <th>5</th>\n",
       "      <td>5</td>\n",
       "      <td>11</td>\n",
       "      <td>POLYGON ((24.50735919320162 60.28788319783227,...</td>\n",
       "    </tr>\n",
       "    <tr>\n",
       "      <th>6</th>\n",
       "      <td>6</td>\n",
       "      <td>6</td>\n",
       "      <td>POLYGON ((24.50739294139509 60.28563946878506,...</td>\n",
       "    </tr>\n",
       "    <tr>\n",
       "      <th>7</th>\n",
       "      <td>7</td>\n",
       "      <td>22</td>\n",
       "      <td>POLYGON ((24.50762902824739 60.26993334375615,...</td>\n",
       "    </tr>\n",
       "    <tr>\n",
       "      <th>8</th>\n",
       "      <td>8</td>\n",
       "      <td>21</td>\n",
       "      <td>POLYGON ((24.50779750196551 60.2587145700011, ...</td>\n",
       "    </tr>\n",
       "    <tr>\n",
       "      <th>9</th>\n",
       "      <td>9</td>\n",
       "      <td>9</td>\n",
       "      <td>POLYGON ((24.50783118034555 60.25647083087788,...</td>\n",
       "    </tr>\n",
       "    <tr>\n",
       "      <th>10</th>\n",
       "      <td>10</td>\n",
       "      <td>7</td>\n",
       "      <td>POLYGON ((24.51187874844183 60.2878998774964, ...</td>\n",
       "    </tr>\n",
       "    <tr>\n",
       "      <th>11</th>\n",
       "      <td>11</td>\n",
       "      <td>24</td>\n",
       "      <td>POLYGON ((24.51211270688293 60.27219374732896,...</td>\n",
       "    </tr>\n",
       "    <tr>\n",
       "      <th>12</th>\n",
       "      <td>12</td>\n",
       "      <td>11</td>\n",
       "      <td>POLYGON ((24.51214610822386 60.26995001134868,...</td>\n",
       "    </tr>\n",
       "    <tr>\n",
       "      <th>13</th>\n",
       "      <td>13</td>\n",
       "      <td>16</td>\n",
       "      <td>POLYGON ((24.51227966173693 60.2609749699107, ...</td>\n",
       "    </tr>\n",
       "    <tr>\n",
       "      <th>14</th>\n",
       "      <td>14</td>\n",
       "      <td>13</td>\n",
       "      <td>POLYGON ((24.51231303649061 60.25873123005555,...</td>\n",
       "    </tr>\n",
       "    <tr>\n",
       "      <th>15</th>\n",
       "      <td>15</td>\n",
       "      <td>5</td>\n",
       "      <td>POLYGON ((24.51234640593047 60.25648748942533,...</td>\n",
       "    </tr>\n",
       "    <tr>\n",
       "      <th>16</th>\n",
       "      <td>16</td>\n",
       "      <td>10</td>\n",
       "      <td>POLYGON ((24.51241312887348 60.25200000583958,...</td>\n",
       "    </tr>\n",
       "    <tr>\n",
       "      <th>17</th>\n",
       "      <td>17</td>\n",
       "      <td>5</td>\n",
       "      <td>POLYGON ((24.51653064123883 60.27894147002859,...</td>\n",
       "    </tr>\n",
       "    <tr>\n",
       "      <th>18</th>\n",
       "      <td>18</td>\n",
       "      <td>7</td>\n",
       "      <td>POLYGON ((24.51662994921794 60.27221026225279,...</td>\n",
       "    </tr>\n",
       "    <tr>\n",
       "      <th>19</th>\n",
       "      <td>19</td>\n",
       "      <td>38</td>\n",
       "      <td>POLYGON ((24.51676228738121 60.2632352179387, ...</td>\n",
       "    </tr>\n",
       "    <tr>\n",
       "      <th>20</th>\n",
       "      <td>20</td>\n",
       "      <td>5</td>\n",
       "      <td>POLYGON ((24.51679535842056 60.26099147736515,...</td>\n",
       "    </tr>\n",
       "    <tr>\n",
       "      <th>21</th>\n",
       "      <td>21</td>\n",
       "      <td>19</td>\n",
       "      <td>POLYGON ((24.51696063465362 60.24977276287417,...</td>\n",
       "    </tr>\n",
       "    <tr>\n",
       "      <th>22</th>\n",
       "      <td>22</td>\n",
       "      <td>10</td>\n",
       "      <td>POLYGON ((24.52121275737771 60.26773914487919,...</td>\n",
       "    </tr>\n",
       "    <tr>\n",
       "      <th>23</th>\n",
       "      <td>23</td>\n",
       "      <td>39</td>\n",
       "      <td>POLYGON ((24.52124552982347 60.26549540437524,...</td>\n",
       "    </tr>\n",
       "    <tr>\n",
       "      <th>24</th>\n",
       "      <td>24</td>\n",
       "      <td>32</td>\n",
       "      <td>POLYGON ((24.52127829836113 60.2632515733291, ...</td>\n",
       "    </tr>\n",
       "    <tr>\n",
       "      <th>25</th>\n",
       "      <td>25</td>\n",
       "      <td>41</td>\n",
       "      <td>POLYGON ((24.52131106036993 60.26100783127597,...</td>\n",
       "    </tr>\n",
       "    <tr>\n",
       "      <th>26</th>\n",
       "      <td>26</td>\n",
       "      <td>8</td>\n",
       "      <td>POLYGON ((24.52147479218809 60.24978910939016,...</td>\n",
       "    </tr>\n",
       "    <tr>\n",
       "      <th>27</th>\n",
       "      <td>27</td>\n",
       "      <td>25</td>\n",
       "      <td>POLYGON ((24.52150752291474 60.24754536268875,...</td>\n",
       "    </tr>\n",
       "    <tr>\n",
       "      <th>28</th>\n",
       "      <td>28</td>\n",
       "      <td>8</td>\n",
       "      <td>POLYGON ((24.52154024843179 60.24530161521252,...</td>\n",
       "    </tr>\n",
       "    <tr>\n",
       "      <th>29</th>\n",
       "      <td>29</td>\n",
       "      <td>9</td>\n",
       "      <td>POLYGON ((24.52569707550051 60.26999909138292,...</td>\n",
       "    </tr>\n",
       "    <tr>\n",
       "      <th>...</th>\n",
       "      <td>...</td>\n",
       "      <td>...</td>\n",
       "      <td>...</td>\n",
       "    </tr>\n",
       "    <tr>\n",
       "      <th>5753</th>\n",
       "      <td>5753</td>\n",
       "      <td>23</td>\n",
       "      <td>POLYGON ((25.21666437314042 60.24598698881571,...</td>\n",
       "    </tr>\n",
       "    <tr>\n",
       "      <th>5754</th>\n",
       "      <td>5754</td>\n",
       "      <td>5</td>\n",
       "      <td>POLYGON ((25.22129938268219 60.2639299943578, ...</td>\n",
       "    </tr>\n",
       "    <tr>\n",
       "      <th>5755</th>\n",
       "      <td>5755</td>\n",
       "      <td>16</td>\n",
       "      <td>POLYGON ((25.22128423718617 60.26168619093082,...</td>\n",
       "    </tr>\n",
       "    <tr>\n",
       "      <th>5756</th>\n",
       "      <td>5756</td>\n",
       "      <td>6</td>\n",
       "      <td>POLYGON ((25.22126909410185 60.25944238673761,...</td>\n",
       "    </tr>\n",
       "    <tr>\n",
       "      <th>5757</th>\n",
       "      <td>5757</td>\n",
       "      <td>7</td>\n",
       "      <td>POLYGON ((25.22125395342868 60.25719858177814,...</td>\n",
       "    </tr>\n",
       "    <tr>\n",
       "      <th>5758</th>\n",
       "      <td>5758</td>\n",
       "      <td>10</td>\n",
       "      <td>POLYGON ((25.2212085458707 60.25046716230175, ...</td>\n",
       "    </tr>\n",
       "    <tr>\n",
       "      <th>5759</th>\n",
       "      <td>5759</td>\n",
       "      <td>51</td>\n",
       "      <td>POLYGON ((25.22119341483674 60.24822335427685,...</td>\n",
       "    </tr>\n",
       "    <tr>\n",
       "      <th>5760</th>\n",
       "      <td>5760</td>\n",
       "      <td>7</td>\n",
       "      <td>POLYGON ((25.22117828621124 60.24597954548549,...</td>\n",
       "    </tr>\n",
       "    <tr>\n",
       "      <th>5761</th>\n",
       "      <td>5761</td>\n",
       "      <td>44</td>\n",
       "      <td>POLYGON ((25.22576925617927 60.25719098179834,...</td>\n",
       "    </tr>\n",
       "    <tr>\n",
       "      <th>5762</th>\n",
       "      <td>5762</td>\n",
       "      <td>14</td>\n",
       "      <td>POLYGON ((25.22575380898467 60.25494717676001,...</td>\n",
       "    </tr>\n",
       "    <tr>\n",
       "      <th>5763</th>\n",
       "      <td>5763</td>\n",
       "      <td>19</td>\n",
       "      <td>POLYGON ((25.22573836424932 60.25270337095526,...</td>\n",
       "    </tr>\n",
       "    <tr>\n",
       "      <th>5764</th>\n",
       "      <td>5764</td>\n",
       "      <td>18</td>\n",
       "      <td>POLYGON ((25.22572292197267 60.25045956438404,...</td>\n",
       "    </tr>\n",
       "    <tr>\n",
       "      <th>5765</th>\n",
       "      <td>5765</td>\n",
       "      <td>23</td>\n",
       "      <td>POLYGON ((25.22570748215417 60.24821575704631,...</td>\n",
       "    </tr>\n",
       "    <tr>\n",
       "      <th>5766</th>\n",
       "      <td>5766</td>\n",
       "      <td>42</td>\n",
       "      <td>POLYGON ((25.23042647520894 60.27737752260245,...</td>\n",
       "    </tr>\n",
       "    <tr>\n",
       "      <th>5767</th>\n",
       "      <td>5767</td>\n",
       "      <td>8</td>\n",
       "      <td>POLYGON ((25.23026880034398 60.25493942395087,...</td>\n",
       "    </tr>\n",
       "    <tr>\n",
       "      <th>5768</th>\n",
       "      <td>5768</td>\n",
       "      <td>6</td>\n",
       "      <td>POLYGON ((25.23025304672631 60.25269561884735,...</td>\n",
       "    </tr>\n",
       "    <tr>\n",
       "      <th>5769</th>\n",
       "      <td>5769</td>\n",
       "      <td>18</td>\n",
       "      <td>POLYGON ((25.23023729561652 60.25045181297729,...</td>\n",
       "    </tr>\n",
       "    <tr>\n",
       "      <th>5770</th>\n",
       "      <td>5770</td>\n",
       "      <td>11</td>\n",
       "      <td>POLYGON ((25.23022154701403 60.24820800634062,...</td>\n",
       "    </tr>\n",
       "    <tr>\n",
       "      <th>5771</th>\n",
       "      <td>5771</td>\n",
       "      <td>14</td>\n",
       "      <td>POLYGON ((25.23502503456639 60.28858858124472,...</td>\n",
       "    </tr>\n",
       "    <tr>\n",
       "      <th>5772</th>\n",
       "      <td>5772</td>\n",
       "      <td>14</td>\n",
       "      <td>POLYGON ((25.23500893364224 60.2863447883521, ...</td>\n",
       "    </tr>\n",
       "    <tr>\n",
       "      <th>5773</th>\n",
       "      <td>5773</td>\n",
       "      <td>8</td>\n",
       "      <td>POLYGON ((25.23497673949037 60.28185720026844,...</td>\n",
       "    </tr>\n",
       "    <tr>\n",
       "      <th>5774</th>\n",
       "      <td>5774</td>\n",
       "      <td>16</td>\n",
       "      <td>POLYGON ((25.23496064626151 60.2796134050773, ...</td>\n",
       "    </tr>\n",
       "    <tr>\n",
       "      <th>5775</th>\n",
       "      <td>5775</td>\n",
       "      <td>5</td>\n",
       "      <td>POLYGON ((25.23494455559658 60.27736960911994,...</td>\n",
       "    </tr>\n",
       "    <tr>\n",
       "      <th>5776</th>\n",
       "      <td>5776</td>\n",
       "      <td>6</td>\n",
       "      <td>POLYGON ((25.23473560936717 60.24820010215993,...</td>\n",
       "    </tr>\n",
       "    <tr>\n",
       "      <th>5777</th>\n",
       "      <td>5777</td>\n",
       "      <td>9</td>\n",
       "      <td>POLYGON ((25.2395612261032 60.29082439134615, ...</td>\n",
       "    </tr>\n",
       "    <tr>\n",
       "      <th>5778</th>\n",
       "      <td>5778</td>\n",
       "      <td>6</td>\n",
       "      <td>POLYGON ((25.2395284017216 60.28633671801861, ...</td>\n",
       "    </tr>\n",
       "    <tr>\n",
       "      <th>5779</th>\n",
       "      <td>5779</td>\n",
       "      <td>14</td>\n",
       "      <td>POLYGON ((25.23951199378196 60.28409292509032,...</td>\n",
       "    </tr>\n",
       "    <tr>\n",
       "      <th>5780</th>\n",
       "      <td>5780</td>\n",
       "      <td>15</td>\n",
       "      <td>POLYGON ((25.23949558845674 60.28184913139572,...</td>\n",
       "    </tr>\n",
       "    <tr>\n",
       "      <th>5781</th>\n",
       "      <td>5781</td>\n",
       "      <td>6</td>\n",
       "      <td>POLYGON ((25.24408115860015 60.29081616608209,...</td>\n",
       "    </tr>\n",
       "    <tr>\n",
       "      <th>5782</th>\n",
       "      <td>5782</td>\n",
       "      <td>9</td>\n",
       "      <td>POLYGON ((25.24401428256203 60.28184090910922,...</td>\n",
       "    </tr>\n",
       "  </tbody>\n",
       "</table>\n",
       "<p>5694 rows × 3 columns</p>\n",
       "</div>"
      ],
      "text/plain": [
       "     geoid  ASUKKAITA                                           geometry\n",
       "0        0          8  POLYGON ((24.50236241370834 60.31927864851716,...\n",
       "1        1          6  POLYGON ((24.50287385337343 60.28562263749414,...\n",
       "2        2          8  POLYGON ((24.50311210582754 60.26991652312412,...\n",
       "3        3          7  POLYGON ((24.50314612020954 60.26767278939882,...\n",
       "4        4         19  POLYGON ((24.50328212493893 60.25869775697638,...\n",
       "5        5         11  POLYGON ((24.50735919320162 60.28788319783227,...\n",
       "6        6          6  POLYGON ((24.50739294139509 60.28563946878506,...\n",
       "7        7         22  POLYGON ((24.50762902824739 60.26993334375615,...\n",
       "8        8         21  POLYGON ((24.50779750196551 60.2587145700011, ...\n",
       "9        9          9  POLYGON ((24.50783118034555 60.25647083087788,...\n",
       "10      10          7  POLYGON ((24.51187874844183 60.2878998774964, ...\n",
       "11      11         24  POLYGON ((24.51211270688293 60.27219374732896,...\n",
       "12      12         11  POLYGON ((24.51214610822386 60.26995001134868,...\n",
       "13      13         16  POLYGON ((24.51227966173693 60.2609749699107, ...\n",
       "14      14         13  POLYGON ((24.51231303649061 60.25873123005555,...\n",
       "15      15          5  POLYGON ((24.51234640593047 60.25648748942533,...\n",
       "16      16         10  POLYGON ((24.51241312887348 60.25200000583958,...\n",
       "17      17          5  POLYGON ((24.51653064123883 60.27894147002859,...\n",
       "18      18          7  POLYGON ((24.51662994921794 60.27221026225279,...\n",
       "19      19         38  POLYGON ((24.51676228738121 60.2632352179387, ...\n",
       "20      20          5  POLYGON ((24.51679535842056 60.26099147736515,...\n",
       "21      21         19  POLYGON ((24.51696063465362 60.24977276287417,...\n",
       "22      22         10  POLYGON ((24.52121275737771 60.26773914487919,...\n",
       "23      23         39  POLYGON ((24.52124552982347 60.26549540437524,...\n",
       "24      24         32  POLYGON ((24.52127829836113 60.2632515733291, ...\n",
       "25      25         41  POLYGON ((24.52131106036993 60.26100783127597,...\n",
       "26      26          8  POLYGON ((24.52147479218809 60.24978910939016,...\n",
       "27      27         25  POLYGON ((24.52150752291474 60.24754536268875,...\n",
       "28      28          8  POLYGON ((24.52154024843179 60.24530161521252,...\n",
       "29      29          9  POLYGON ((24.52569707550051 60.26999909138292,...\n",
       "...    ...        ...                                                ...\n",
       "5753  5753         23  POLYGON ((25.21666437314042 60.24598698881571,...\n",
       "5754  5754          5  POLYGON ((25.22129938268219 60.2639299943578, ...\n",
       "5755  5755         16  POLYGON ((25.22128423718617 60.26168619093082,...\n",
       "5756  5756          6  POLYGON ((25.22126909410185 60.25944238673761,...\n",
       "5757  5757          7  POLYGON ((25.22125395342868 60.25719858177814,...\n",
       "5758  5758         10  POLYGON ((25.2212085458707 60.25046716230175, ...\n",
       "5759  5759         51  POLYGON ((25.22119341483674 60.24822335427685,...\n",
       "5760  5760          7  POLYGON ((25.22117828621124 60.24597954548549,...\n",
       "5761  5761         44  POLYGON ((25.22576925617927 60.25719098179834,...\n",
       "5762  5762         14  POLYGON ((25.22575380898467 60.25494717676001,...\n",
       "5763  5763         19  POLYGON ((25.22573836424932 60.25270337095526,...\n",
       "5764  5764         18  POLYGON ((25.22572292197267 60.25045956438404,...\n",
       "5765  5765         23  POLYGON ((25.22570748215417 60.24821575704631,...\n",
       "5766  5766         42  POLYGON ((25.23042647520894 60.27737752260245,...\n",
       "5767  5767          8  POLYGON ((25.23026880034398 60.25493942395087,...\n",
       "5768  5768          6  POLYGON ((25.23025304672631 60.25269561884735,...\n",
       "5769  5769         18  POLYGON ((25.23023729561652 60.25045181297729,...\n",
       "5770  5770         11  POLYGON ((25.23022154701403 60.24820800634062,...\n",
       "5771  5771         14  POLYGON ((25.23502503456639 60.28858858124472,...\n",
       "5772  5772         14  POLYGON ((25.23500893364224 60.2863447883521, ...\n",
       "5773  5773          8  POLYGON ((25.23497673949037 60.28185720026844,...\n",
       "5774  5774         16  POLYGON ((25.23496064626151 60.2796134050773, ...\n",
       "5775  5775          5  POLYGON ((25.23494455559658 60.27736960911994,...\n",
       "5776  5776          6  POLYGON ((25.23473560936717 60.24820010215993,...\n",
       "5777  5777          9  POLYGON ((25.2395612261032 60.29082439134615, ...\n",
       "5778  5778          6  POLYGON ((25.2395284017216 60.28633671801861, ...\n",
       "5779  5779         14  POLYGON ((25.23951199378196 60.28409292509032,...\n",
       "5780  5780         15  POLYGON ((25.23949558845674 60.28184913139572,...\n",
       "5781  5781          6  POLYGON ((25.24408115860015 60.29081616608209,...\n",
       "5782  5782          9  POLYGON ((25.24401428256203 60.28184090910922,...\n",
       "\n",
       "[5694 rows x 3 columns]"
      ]
     },
     "execution_count": 55,
     "metadata": {},
     "output_type": "execute_result"
    }
   ],
   "source": [
    "data"
   ]
  },
  {
   "cell_type": "code",
   "execution_count": 59,
   "metadata": {
    "collapsed": true
   },
   "outputs": [],
   "source": [
    "from folium.plugins import MarkerCluster\n",
    "\n",
    "# Create a Clustered map where points are clustered\n",
    "marker_cluster = MarkerCluster().add_to(map_osm)\n",
    "\n",
    "\n",
    "# Create Choropleth map where the colors are coming from a column \"ASUKKAITA\".\n",
    "# Notice: 'geoid' column that we created earlier needs to be assigned always as the first column\n",
    "# with threshold_scale we can adjust the class intervals for the values\n",
    "map_osm.choropleth(geo_data=jsontxt, data=data, columns=['geoid', 'ASUKKAITA'], key_on=\"feature.id\",\n",
    "                   fill_color='YlOrRd', fill_opacity=0.9, line_opacity=0.2, line_color='white', line_weight=0,\n",
    "                   threshold_scale=[100, 250, 500, 1000, 2000],\n",
    "                   legend_name='Population in Helsinki', highlight=False, smooth_factor=1.0)\n",
    "\n",
    "\n",
    "# Create Address points on top of the map\n",
    "for idx, row in ad.iterrows():\n",
    "    # Get lat and lon of points\n",
    "    lon = row['geometry'].x\n",
    "    lat = row['geometry'].y\n",
    "\n",
    "    # Get address information\n",
    "    address = row['address']\n",
    "    # Add marker to the map\n",
    "    folium.RegularPolygonMarker(location=[lat, lon], popup=address, fill_color='#2b8cbe', number_of_sides=6, radius=8).add_to(marker_cluster)\n",
    "\n",
    "# Save the output\n",
    "outfp = r\"./shapely/Processed_data/pop15.html\"\n",
    "map_osm.save(outfp)"
   ]
  },
  {
   "cell_type": "markdown",
   "metadata": {},
   "source": [
    "### 3D Folium Example"
   ]
  },
  {
   "cell_type": "code",
   "execution_count": 60,
   "metadata": {
    "collapsed": true
   },
   "outputs": [],
   "source": [
    "from folium.features import Template\n",
    "\n",
    "\n",
    "class Map3d(folium.Map):\n",
    "\n",
    "    def __init__(self, location=None, width='100%', height='100%', left='0%',\n",
    "                 top='0%', position='relative', tiles='OpenStreetMap', API_key=None,\n",
    "                 max_zoom=18, min_zoom=1, zoom_start=10, attr=None, min_lat=-90,\n",
    "                 max_lat=90, min_lon=-180, max_lon=180, detect_retina=False, crs='EPSG3857'):\n",
    "        super(Map3d, self).__init__(\n",
    "            location=location, width=width, height=height,\n",
    "            left=left, top=top, position=position, tiles=tiles,\n",
    "            API_key=API_key, max_zoom=max_zoom, min_zoom=min_zoom,\n",
    "            zoom_start=zoom_start, attr=attr, min_lat=min_lat,\n",
    "            max_lat=max_lat, min_lon=min_lon, max_lon=max_lon,\n",
    "            detect_retina=detect_retina, crs=crs\n",
    "        )\n",
    "        self._template = Template(u\"\"\"\n",
    "        {% macro header(this, kwargs) %}\n",
    "            <script src=\"https://www.webglearth.com/v2/api.js\"></script>\n",
    "            <style> #{{this.get_name()}} {\n",
    "                position : {{this.position}};\n",
    "                width : {{this.width[0]}}{{this.width[1]}};\n",
    "                height: {{this.height[0]}}{{this.height[1]}};\n",
    "                left: {{this.left[0]}}{{this.left[1]}};\n",
    "                top: {{this.top[0]}}{{this.top[1]}};\n",
    "                }\n",
    "            </style>\n",
    "        {% endmacro %}\n",
    "        {% macro html(this, kwargs) %}\n",
    "            <div class=\"folium-map\" id=\"{{this.get_name()}}\" ></div>\n",
    "        {% endmacro %}\n",
    "\n",
    "        {% macro script(this, kwargs) %}\n",
    "\n",
    "            var southWest = L.latLng({{ this.min_lat }}, {{ this.min_lon }});\n",
    "            var northEast = L.latLng({{ this.max_lat }}, {{ this.max_lon }});\n",
    "            var bounds = L.latLngBounds(southWest, northEast);\n",
    "\n",
    "            var {{this.get_name()}} = WE.map('{{this.get_name()}}', {\n",
    "                                           center:[{{this.location[0]}},{{this.location[1]}}],\n",
    "                                           zoom: {{this.zoom_start}},\n",
    "                                           maxBounds: bounds,\n",
    "                                           layers: [],\n",
    "                                           crs: L.CRS.{{this.crs}}\n",
    "                                         });\n",
    "        {% endmacro %}\n",
    "        \"\"\")\n",
    "\n",
    "\n",
    "class TileLayer3d(folium.TileLayer):\n",
    "\n",
    "    def __init__(self, tiles='OpenStreetMap', min_zoom=1, max_zoom=18, attr=None,\n",
    "                 API_key=None, detect_retina=False, name=None, overlay=False, control=True):\n",
    "        super(TileLayer3d, self).__init__(\n",
    "            tiles=tiles, min_zoom=min_zoom, max_zoom=max_zoom,\n",
    "            attr=attr, API_key=API_key, detect_retina=detect_retina,\n",
    "            name=name, overlay=overlay, control=control\n",
    "        )\n",
    "        self._template = Template(u\"\"\"\n",
    "        {% macro script(this, kwargs) %}\n",
    "            var {{this.get_name()}} = WE.tileLayer(\n",
    "                '{{this.tiles}}',\n",
    "                {\n",
    "                    maxZoom: {{this.max_zoom}},\n",
    "                    minZoom: {{this.min_zoom}},\n",
    "                    attribution: '{{this.attr}}',\n",
    "                    detectRetina: {{this.detect_retina.__str__().lower()}}\n",
    "                    }\n",
    "                ).addTo({{this._parent.get_name()}});\n",
    "\n",
    "        {% endmacro %}\n",
    "        \"\"\")"
   ]
  },
  {
   "cell_type": "code",
   "execution_count": 62,
   "metadata": {
    "collapsed": true
   },
   "outputs": [],
   "source": [
    "import os"
   ]
  },
  {
   "cell_type": "code",
   "execution_count": 63,
   "metadata": {
    "collapsed": true
   },
   "outputs": [],
   "source": [
    "m = Map3d(location=[-42, -42], tiles=None, zoom_start=2)\n",
    "m.add_child(TileLayer3d(tiles='OpenStreetMap'))\n",
    "\n",
    "url = ('http://services.arcgisonline.com/arcgis/rest/services'\n",
    "       'Ocean/World_Ocean_Base'\n",
    "       'MapServer/tile/{z}/{y}/{x}')\n",
    "\n",
    "folium.TileLayer(\n",
    "    tiles=url,\n",
    "    name='World_Ocean_Base',\n",
    "    attr='ESRI',\n",
    "    overlay=True\n",
    ").add_to(m)\n",
    "\n",
    "\n",
    "m.save(os.path.join('./shapely', 'Hacking_folium_3D_globe.html'))"
   ]
  },
  {
   "cell_type": "markdown",
   "metadata": {},
   "source": [
    "# Lesson 6 \n",
    "## Objectives\n",
    "- About Arcpy"
   ]
  },
  {
   "cell_type": "markdown",
   "metadata": {},
   "source": [
    "# Lesson 7 \n",
    "- In this lesson we will learn basic techniques for automating raster data processing with Python and the Geospatial Data Abstraction Library GDAL.\n",
    "- http://www.gdal.org/\n",
    "- Raster files are commonly used to store terrain models and remote sensing data and their derivate products such as vegetation indices and other environmental datasets. Raster files tend to be huge (imagine for example a raster dataset covering the globe in 30m x 30m resolution) and are often delivered and processed in smaller pieces (tiles). Efficient processing and analysis of such large datasets consequently requires automatization. During this lesson you will learn how to read and write common raster formats, and conduct basic raster data processes for a batch of files using the GDAL/OGR API in Python and GDAL command line utilities.\n",
    "- https://mapbox.github.io/rasterio/\n"
   ]
  },
  {
   "cell_type": "markdown",
   "metadata": {},
   "source": [
    "### Learning Objectives\n",
    "- Read / write raster data (e.g. .tif) in Python\n",
    "- Extract some basic raster statistics from the data (min, max, mean, no-data-value etc.)\n",
    "- Clip the raster dataset by bounding box\n",
    "- Stack different bands together and create a false-color composite\n",
    "- Calculate with rasters"
   ]
  },
  {
   "cell_type": "markdown",
   "metadata": {
    "collapsed": true
   },
   "source": [
    "- With GDAL, you can read and write several different raster formats in Python. Python automatically registers all known GDAL drivers for reading supported formats when the importing the GDAL module. Most common file formats include for example TIFF and GeoTIFF, ASCII Grid and Erdas Imagine .img -files."
   ]
  },
  {
   "cell_type": "code",
   "execution_count": 4,
   "metadata": {},
   "outputs": [
    {
     "ename": "ModuleNotFoundError",
     "evalue": "No module named 'gdal'",
     "output_type": "error",
     "traceback": [
      "\u001b[0;31m---------------------------------------------------------------------------\u001b[0m",
      "\u001b[0;31mModuleNotFoundError\u001b[0m                       Traceback (most recent call last)",
      "\u001b[0;32m<ipython-input-4-2727e2ea0a8b>\u001b[0m in \u001b[0;36m<module>\u001b[0;34m()\u001b[0m\n\u001b[0;32m----> 1\u001b[0;31m \u001b[0;32mfrom\u001b[0m \u001b[0mgdal\u001b[0m \u001b[0;32mimport\u001b[0m \u001b[0mgdal\u001b[0m\u001b[0;34m\u001b[0m\u001b[0m\n\u001b[0m\u001b[1;32m      2\u001b[0m \u001b[0;34m\u001b[0m\u001b[0m\n\u001b[1;32m      3\u001b[0m \u001b[0mfilepath\u001b[0m \u001b[0;34m=\u001b[0m \u001b[0;34mr\"./shapely/LC81910182016153-SC20161208043748/LC81910182016153LGN00_sr_band4.tif\"\u001b[0m\u001b[0;34m\u001b[0m\u001b[0m\n\u001b[1;32m      4\u001b[0m \u001b[0;34m\u001b[0m\u001b[0m\n\u001b[1;32m      5\u001b[0m \u001b[0;31m# Open the file:\u001b[0m\u001b[0;34m\u001b[0m\u001b[0;34m\u001b[0m\u001b[0m\n",
      "\u001b[0;31mModuleNotFoundError\u001b[0m: No module named 'gdal'"
     ]
    }
   ],
   "source": [
    "from gdal import gdal\n",
    "\n",
    "filepath = r\"./shapely/LC81910182016153-SC20161208043748/LC81910182016153LGN00_sr_band4.tif\"\n",
    "\n",
    "# Open the file:\n",
    "raster = gdal.Open(filepath)\n",
    "\n",
    "# Check type of the variable 'raster'\n",
    "type(raster)"
   ]
  },
  {
   "cell_type": "code",
   "execution_count": 5,
   "metadata": {},
   "outputs": [
    {
     "ename": "ModuleNotFoundError",
     "evalue": "No module named 'osgeo'",
     "output_type": "error",
     "traceback": [
      "\u001b[0;31m---------------------------------------------------------------------------\u001b[0m",
      "\u001b[0;31mModuleNotFoundError\u001b[0m                       Traceback (most recent call last)",
      "\u001b[0;32m<ipython-input-5-3c47f6462e61>\u001b[0m in \u001b[0;36m<module>\u001b[0;34m()\u001b[0m\n\u001b[0;32m----> 1\u001b[0;31m \u001b[0;32mfrom\u001b[0m \u001b[0mosgeo\u001b[0m \u001b[0;32mimport\u001b[0m \u001b[0mgdal\u001b[0m\u001b[0;34m,\u001b[0m \u001b[0mogr\u001b[0m\u001b[0;34m\u001b[0m\u001b[0m\n\u001b[0m",
      "\u001b[0;31mModuleNotFoundError\u001b[0m: No module named 'osgeo'"
     ]
    }
   ],
   "source": [
    "from osgeo import gdal, ogr"
   ]
  },
  {
   "cell_type": "code",
   "execution_count": null,
   "metadata": {
    "collapsed": true
   },
   "outputs": [],
   "source": []
  }
 ],
 "metadata": {
  "kernelspec": {
   "display_name": "Python 3",
   "language": "python",
   "name": "python3"
  },
  "language_info": {
   "codemirror_mode": {
    "name": "ipython",
    "version": 3
   },
   "file_extension": ".py",
   "mimetype": "text/x-python",
   "name": "python",
   "nbconvert_exporter": "python",
   "pygments_lexer": "ipython3",
   "version": "3.6.2"
  }
 },
 "nbformat": 4,
 "nbformat_minor": 2
}
