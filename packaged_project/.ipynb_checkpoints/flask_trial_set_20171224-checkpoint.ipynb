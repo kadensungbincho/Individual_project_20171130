{
 "cells": [
  {
   "cell_type": "markdown",
   "metadata": {},
   "source": [
    "# Needs Analysis"
   ]
  },
  {
   "cell_type": "code",
   "execution_count": 2,
   "metadata": {
    "scrolled": false
   },
   "outputs": [
    {
     "name": "stderr",
     "output_type": "stream",
     "text": [
      " * Running on http://0.0.0.0:8000/ (Press CTRL+C to quit)\n"
     ]
    }
   ],
   "source": [
    "import json\n",
    "\n",
    "from flask import (Flask, render_template, redirect, url_for,\n",
    "                   request, make_response, flash)\n",
    "\n",
    "app = Flask(__name__)\n",
    "app.secret_key = '1u40rnegisrgnafewar'\n",
    "HOST = '0.0.0.0'\n",
    "PORT = 8000\n",
    "\n",
    "\n",
    "# def get_saved_data():\n",
    "#     try:\n",
    "#         data = json.loads(request.cookies.get('character'))\n",
    "#     except TypeError:\n",
    "#         data = {}\n",
    "#     return data\n",
    "\n",
    "\n",
    "@app.route('/')\n",
    "def index():\n",
    "    return render_template('index.html')\n",
    "\n",
    "# @app.route('/save', methods=['POST'])\n",
    "# def save():\n",
    "#     flash('You put save!')\n",
    "#     response = make_response(redirect(url_for('index'))) # by function name\n",
    "#     data = get_saved_data()\n",
    "#     data.update(dict(request.form.items()))\n",
    "#     response.set_cookie('character', json.dumps(data))\n",
    "#     return response\n",
    "\n",
    "\n",
    "if __name__ == \"__main__\":\n",
    "    app.run(host=HOST, port=PORT)"
   ]
  },
  {
   "cell_type": "markdown",
   "metadata": {},
   "source": [
    "# map addition 20171226"
   ]
  },
  {
   "cell_type": "code",
   "execution_count": null,
   "metadata": {
    "collapsed": true
   },
   "outputs": [],
   "source": [
    "import json\n",
    "from nocache import nocache\n",
    "\n",
    "from flask import (Flask, render_template, redirect, url_for,\n",
    "                   request, make_response, flash)\n",
    "\n",
    "app = Flask(__name__)\n",
    "app.secret_key = '1u40rnegisrgnafewar'\n",
    "HOST = '0.0.0.0'\n",
    "PORT = 8000\n",
    "\n",
    "\n",
    "# def get_saved_data():\n",
    "#     try:\n",
    "#         data = json.loads(request.cookies.get('character'))\n",
    "#     except TypeError:\n",
    "#         data = {}\n",
    "#     return data\n",
    "\n",
    "\n",
    "@app.route('/')\n",
    "@nocache\n",
    "def index():\n",
    "    return render_template('index.html')\n",
    "\n",
    "# @app.route('/save', methods=['POST'])\n",
    "# def save():\n",
    "#     flash('You put save!')\n",
    "#     response = make_response(redirect(url_for('index'))) # by function name\n",
    "#     data = get_saved_data()\n",
    "#     data.update(dict(request.form.items()))\n",
    "#     response.set_cookie('character', json.dumps(data))\n",
    "#     return response\n",
    "\n",
    "@app.route('/maps/<filename>')\n",
    "@nocache\n",
    "def show_map(filename='map.html'):\n",
    "    return render_template('/maps/{}'.format(filename))\n",
    "\n",
    "if __name__ == \"__main__\":\n",
    "    app.run(host=HOST, port=PORT)"
   ]
  },
  {
   "cell_type": "code",
   "execution_count": null,
   "metadata": {
    "collapsed": true
   },
   "outputs": [],
   "source": [
    "url_for()"
   ]
  },
  {
   "cell_type": "code",
   "execution_count": null,
   "metadata": {
    "collapsed": true
   },
   "outputs": [],
   "source": []
  },
  {
   "cell_type": "code",
   "execution_count": null,
   "metadata": {
    "collapsed": true
   },
   "outputs": [],
   "source": [
    "from config.config_20171221 import DEFAULTS_MAP\n",
    "print(DEFAULTS_MAP['query'])"
   ]
  },
  {
   "cell_type": "code",
   "execution_count": null,
   "metadata": {
    "collapsed": true
   },
   "outputs": [],
   "source": [
    "import pymongo\n",
    "\n",
    "username = 'kadencho' \n",
    "userpassword = ''\n",
    "\n",
    "cnn = pymongo.MongoClient('mongodb://%s:%s@ec2-13-125-106-155.ap-northeast-2.compute.amazonaws.com' % (username, userpassword))\n",
    "db = cnn['testdb']\n",
    "collection = db['infra']"
   ]
  },
  {
   "cell_type": "code",
   "execution_count": null,
   "metadata": {
    "collapsed": true
   },
   "outputs": [],
   "source": [
    "DEFAULTS_MAP['query']"
   ]
  },
  {
   "cell_type": "code",
   "execution_count": null,
   "metadata": {
    "collapsed": true
   },
   "outputs": [],
   "source": [
    "collection.find({ 'query_category' : '지하철역' })"
   ]
  },
  {
   "cell_type": "markdown",
   "metadata": {
    "collapsed": true
   },
   "source": [
    "# 20180102"
   ]
  },
  {
   "cell_type": "code",
   "execution_count": 17,
   "metadata": {},
   "outputs": [
    {
     "name": "stderr",
     "output_type": "stream",
     "text": [
      " * Running on http://0.0.0.0:8000/ (Press CTRL+C to quit)\n",
      "192.168.99.1 - - [02/Jan/2018 15:29:03] \"GET / HTTP/1.1\" 200 -\n",
      "192.168.99.1 - - [02/Jan/2018 15:29:03] \"GET /static/css/clean-blog.css?q=1514875264 HTTP/1.1\" 200 -\n",
      "192.168.99.1 - - [02/Jan/2018 15:29:03] \"GET /maps/large_area.html HTTP/1.1\" 200 -\n"
     ]
    }
   ],
   "source": [
    "from flask import (Flask, render_template, redirect, url_for,\n",
    "                   request, make_response, flash)\n",
    "import os\n",
    "\n",
    "app = Flask(__name__)\n",
    "app.secret_key = '1u40rnegisrgnafewar'\n",
    "HOST = '0.0.0.0'\n",
    "PORT = 8000\n",
    "DEBUG = True\n",
    "\n",
    "\n",
    "@app.route('/')\n",
    "def index():\n",
    "    return render_template('index.html')\n",
    "\n",
    "\n",
    "@app.route('/maps/<filename>')\n",
    "def show_map(filename='map.html'):\n",
    "    return render_template('/maps/{}'.format(filename))\n",
    "\n",
    "\n",
    "@app.route('/about')\n",
    "def about():\n",
    "    return render_template('about.html')\n",
    "\n",
    "\n",
    "@app.route('/contact')\n",
    "def contact():\n",
    "    return render_template('contact.html')\n",
    "\n",
    "\n",
    "@app.context_processor\n",
    "def override_url_for():\n",
    "    return dict(url_for=dated_url_for)\n",
    "\n",
    "\n",
    "def dated_url_for(endpoint, **values):\n",
    "    if endpoint == 'static':\n",
    "        filename = values.get('filename', None)\n",
    "        if filename:\n",
    "            file_path = os.path.join(app.root_path,\n",
    "                                     endpoint, filename)\n",
    "            values['q'] = int(os.stat(file_path).st_mtime)\n",
    "    return url_for(endpoint, **values)\n",
    "\n",
    "if __name__ == \"__main__\":\n",
    "    app.run(host=HOST, port=PORT)\n"
   ]
  }
 ],
 "metadata": {
  "kernelspec": {
   "display_name": "Python 3",
   "language": "python",
   "name": "python3"
  },
  "language_info": {
   "codemirror_mode": {
    "name": "ipython",
    "version": 3
   },
   "file_extension": ".py",
   "mimetype": "text/x-python",
   "name": "python",
   "nbconvert_exporter": "python",
   "pygments_lexer": "ipython3",
   "version": "3.6.2"
  }
 },
 "nbformat": 4,
 "nbformat_minor": 2
}
