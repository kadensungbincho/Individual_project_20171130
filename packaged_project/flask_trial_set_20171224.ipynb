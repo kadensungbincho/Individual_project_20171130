{
 "cells": [
  {
   "cell_type": "markdown",
   "metadata": {},
   "source": [
    "# Needs Analysis"
   ]
  },
  {
   "cell_type": "code",
   "execution_count": null,
   "metadata": {
    "collapsed": true,
    "scrolled": false
   },
   "outputs": [],
   "source": [
    "import json\n",
    "\n",
    "from flask import (Flask, render_template, redirect, url_for,\n",
    "                   request, make_response, flash)\n",
    "\n",
    "app = Flask(__name__)\n",
    "app.secret_key = '1u40rnegisrgnafewar'\n",
    "HOST = '0.0.0.0'\n",
    "PORT = 8000\n",
    "\n",
    "\n",
    "# def get_saved_data():\n",
    "#     try:\n",
    "#         data = json.loads(request.cookies.get('character'))\n",
    "#     except TypeError:\n",
    "#         data = {}\n",
    "#     return data\n",
    "\n",
    "\n",
    "@app.route('/')\n",
    "def index():\n",
    "    return render_template('index.html')\n",
    "\n",
    "# @app.route('/save', methods=['POST'])\n",
    "# def save():\n",
    "#     flash('You put save!')\n",
    "#     response = make_response(redirect(url_for('index'))) # by function name\n",
    "#     data = get_saved_data()\n",
    "#     data.update(dict(request.form.items()))\n",
    "#     response.set_cookie('character', json.dumps(data))\n",
    "#     return response\n",
    "\n",
    "\n",
    "if __name__ == \"__main__\":\n",
    "    app.run(host=HOST, port=PORT)"
   ]
  },
  {
   "cell_type": "markdown",
   "metadata": {},
   "source": [
    "# map addition 20171226"
   ]
  },
  {
   "cell_type": "code",
   "execution_count": null,
   "metadata": {},
   "outputs": [],
   "source": [
    "import json\n",
    "from nocache import nocache\n",
    "\n",
    "from flask import (Flask, render_template, redirect, url_for,\n",
    "                   request, make_response, flash)\n",
    "\n",
    "app = Flask(__name__)\n",
    "app.secret_key = '1u40rnegisrgnafewar'\n",
    "HOST = '0.0.0.0'\n",
    "PORT = 8000\n",
    "\n",
    "\n",
    "# def get_saved_data():\n",
    "#     try:\n",
    "#         data = json.loads(request.cookies.get('character'))\n",
    "#     except TypeError:\n",
    "#         data = {}\n",
    "#     return data\n",
    "\n",
    "\n",
    "@app.route('/')\n",
    "@nocache\n",
    "def index():\n",
    "    return render_template('index.html')\n",
    "\n",
    "# @app.route('/save', methods=['POST'])\n",
    "# def save():\n",
    "#     flash('You put save!')\n",
    "#     response = make_response(redirect(url_for('index'))) # by function name\n",
    "#     data = get_saved_data()\n",
    "#     data.update(dict(request.form.items()))\n",
    "#     response.set_cookie('character', json.dumps(data))\n",
    "#     return response\n",
    "\n",
    "@app.route('/maps/<filename>')\n",
    "@nocache\n",
    "def show_map(filename='map.html'):\n",
    "    return render_template('/maps/{}'.format(filename))\n",
    "\n",
    "if __name__ == \"__main__\":\n",
    "    app.run(host=HOST, port=PORT)"
   ]
  },
  {
   "cell_type": "code",
   "execution_count": null,
   "metadata": {
    "collapsed": true
   },
   "outputs": [],
   "source": [
    "url_for()"
   ]
  },
  {
   "cell_type": "code",
   "execution_count": null,
   "metadata": {
    "collapsed": true
   },
   "outputs": [],
   "source": []
  },
  {
   "cell_type": "code",
   "execution_count": 1,
   "metadata": {},
   "outputs": [
    {
     "name": "stdout",
     "output_type": "stream",
     "text": [
      "{ 'query_category' : '지하철역' }\n"
     ]
    }
   ],
   "source": [
    "from config.config_20171221 import DEFAULTS_MAP\n",
    "print(DEFAULTS_MAP['query'])"
   ]
  },
  {
   "cell_type": "code",
   "execution_count": 3,
   "metadata": {},
   "outputs": [],
   "source": [
    "import pymongo\n",
    "\n",
    "username = '' \n",
    "userpassword = ''\n",
    "\n",
    "cnn = pymongo.MongoClient('mongodb://%s:%s@ec2-13-125-106-155.ap-northeast-2.compute.amazonaws.com' % (username, userpassword))\n",
    "db = cnn['testdb']\n",
    "collection = db['infra']"
   ]
  },
  {
   "cell_type": "code",
   "execution_count": 7,
   "metadata": {},
   "outputs": [
    {
     "data": {
      "text/plain": [
       "\"{ 'query_category' : '지하철역' }\""
      ]
     },
     "execution_count": 7,
     "metadata": {},
     "output_type": "execute_result"
    }
   ],
   "source": [
    "DEFAULTS_MAP['query']"
   ]
  },
  {
   "cell_type": "code",
   "execution_count": 6,
   "metadata": {},
   "outputs": [
    {
     "data": {
      "text/plain": [
       "<pymongo.cursor.Cursor at 0x7faaf867c6a0>"
      ]
     },
     "execution_count": 6,
     "metadata": {},
     "output_type": "execute_result"
    }
   ],
   "source": [
    "collection.find({ 'query_category' : '지하철역' })"
   ]
  },
  {
   "cell_type": "code",
   "execution_count": null,
   "metadata": {
    "collapsed": true
   },
   "outputs": [],
   "source": []
  }
 ],
 "metadata": {
  "kernelspec": {
   "display_name": "Python 3",
   "language": "python",
   "name": "python3"
  },
  "language_info": {
   "codemirror_mode": {
    "name": "ipython",
    "version": 3
   },
   "file_extension": ".py",
   "mimetype": "text/x-python",
   "name": "python",
   "nbconvert_exporter": "python",
   "pygments_lexer": "ipython3",
   "version": "3.6.2"
  }
 },
 "nbformat": 4,
 "nbformat_minor": 2
}
