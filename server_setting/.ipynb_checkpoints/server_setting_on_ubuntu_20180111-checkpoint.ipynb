{
 "cells": [
  {
   "cell_type": "markdown",
   "metadata": {},
   "source": [
    "### Prerequisite\n",
    "- Log in aws through ssh on windows \n",
    "- https://www.theverge.com/2017/12/14/16775764/microsoft-windows-10-openssh-client-support\n",
    "-\n"
   ]
  },
  {
   "cell_type": "markdown",
   "metadata": {},
   "source": [
    "# Initial Server Setup with Ubuntu 16.04\n",
    "- https://www.digitalocean.com/community/tutorials/initial-server-setup-with-ubuntu-16-04"
   ]
  },
  {
   "cell_type": "markdown",
   "metadata": {},
   "source": [
    "### Root Login"
   ]
  },
  {
   "cell_type": "markdown",
   "metadata": {},
   "source": [
    "### About Root"
   ]
  },
  {
   "cell_type": "markdown",
   "metadata": {},
   "source": [
    "- The root user is the administrative user in a Linux environment that has very broad privileges."
   ]
  },
  {
   "cell_type": "markdown",
   "metadata": {},
   "source": [
    "- Once you are logged in as root, we're prepared to add the new user account that we will use to log in from now on."
   ]
  },
  {
   "cell_type": "markdown",
   "metadata": {},
   "source": [
    "- To avoid having to log out of our normal user and log back in as the root account, we can set up what is known as \"superuser\" or root privileges for our normal account. This will allow our normal user to run commands with administrative privileges by putting the word sudo before each command."
   ]
  },
  {
   "cell_type": "markdown",
   "metadata": {},
   "source": [
    "- About sudo\n",
    "- https://www.digitalocean.com/community/tutorials/how-to-edit-the-sudoers-file-on-ubuntu-and-centos"
   ]
  },
  {
   "cell_type": "markdown",
   "metadata": {},
   "source": [
    "### ssh key login\n",
    "- Use ssh-copy-id\n",
    "- Manually Install the Key"
   ]
  },
  {
   "cell_type": "markdown",
   "metadata": {},
   "source": [
    "- ssh key set in the new user .ssh/authorized_keys"
   ]
  },
  {
   "cell_type": "markdown",
   "metadata": {},
   "source": [
    "- Now that your new user can use SSH keys to log in, you can increase your server's security by disabling password-only authentication. Doing so will restrict SSH access to your server to public key authentication only. That is, the only way to log in to your server (aside from the console) is to possess the private key that pairs with the public key that was installed."
   ]
  },
  {
   "cell_type": "markdown",
   "metadata": {},
   "source": [
    "#### Set up a Basic Firewall"
   ]
  },
  {
   "cell_type": "markdown",
   "metadata": {},
   "source": [
    "- Different applications can register their profiles with UFW upon installation. These profiles allow UFW to manage these applications by name. OpenSSH, the service allowing us to connect to our server now, has a profile registered with UFW."
   ]
  },
  {
   "cell_type": "markdown",
   "metadata": {},
   "source": [
    "$ sudo ufw app list"
   ]
  },
  {
   "cell_type": "markdown",
   "metadata": {},
   "source": [
    "Available applications:\n",
    "  Apache\n",
    "  Apache Full\n",
    "  Apache Secure\n",
    "  Nginx Full\n",
    "  Nginx HTTP\n",
    "  Nginx HTTPS\n",
    "  OpenSSH\n"
   ]
  },
  {
   "cell_type": "markdown",
   "metadata": {},
   "source": [
    "sudo uft enable\n",
    "sudo ufw status\n"
   ]
  },
  {
   "cell_type": "markdown",
   "metadata": {},
   "source": [
    "# How To Edit the Sudoers File on Ubuntu and CentOS\n",
    "- https://www.digitalocean.com/community/tutorials/how-to-edit-the-sudoers-file-on-ubuntu-and-centos"
   ]
  },
  {
   "cell_type": "markdown",
   "metadata": {},
   "source": [
    "#### Intro\n",
    "- Privilege separation is one of the fundamental security paradigms implemented in Linux and Unix-like operating systems. Regular users operate with limited privileges in order to reduce the scope of their influence to their own environment, and not the wider operating system."
   ]
  },
  {
   "cell_type": "markdown",
   "metadata": {},
   "source": [
    "- A special user, called root, has \"super-user\" privileges. This is an administrative account without the restrictions that are present on normal users. Users can execute commands with \"super-user\" or \"root\" privileges in a number of different ways."
   ]
  },
  {
   "cell_type": "markdown",
   "metadata": {},
   "source": [
    "- In this article, we will discuss how to correctly and securely obtain root privileges, with a special focus on editing the **/etc/sudoers** file."
   ]
  },
  {
   "cell_type": "markdown",
   "metadata": {},
   "source": [
    "### How To obtain root privileges"
   ]
  },
  {
   "cell_type": "markdown",
   "metadata": {},
   "source": [
    "- There are three basic ways to obtain root privileges, which vary in their level of sophistication."
   ]
  },
  {
   "cell_type": "markdown",
   "metadata": {},
   "source": [
    "#### Log in as root"
   ]
  },
  {
   "cell_type": "markdown",
   "metadata": {},
   "source": [
    "- The simplest and most straight forward method of obtaining root privileges is simply to log into your server as the root user from the onset."
   ]
  },
  {
   "cell_type": "markdown",
   "metadata": {},
   "source": [
    "- If you are logging into a local machine (or using out-of-band Console Access if you are using DigitalOcean), simply enter \"root\" as your username at the login prompt and enter the root password when asked.\n",
    "\n",
    "- If you are logging in through SSH, specify the root user prior to the IP address or domain name in your SSH connection string:\n"
   ]
  },
  {
   "cell_type": "markdown",
   "metadata": {},
   "source": [
    "$ ssh root@server_domain_or_IP"
   ]
  },
  {
   "cell_type": "markdown",
   "metadata": {},
   "source": [
    "#### Use \"su\" to Become Root"
   ]
  },
  {
   "cell_type": "markdown",
   "metadata": {},
   "source": [
    "- Logging in as root is usually not recommended, because it is easy to begin using the system for non-administrative tasks, which is dangerous."
   ]
  },
  {
   "cell_type": "markdown",
   "metadata": {},
   "source": [
    "- The next way to gain super-user privileges allows you to become the root user at any time, as you need it.\n",
    "- We can do this by invoking the su command, which stands for \"substitute user\". To gain root privileges, simply type:"
   ]
  },
  {
   "cell_type": "markdown",
   "metadata": {},
   "source": [
    "$ su"
   ]
  },
  {
   "cell_type": "markdown",
   "metadata": {},
   "source": [
    "- On aws, you should get in rootuser by \"sudo su\" then set password\n",
    "- https://aws.amazon.com/premiumsupport/knowledge-center/set-change-root-linux/"
   ]
  },
  {
   "cell_type": "markdown",
   "metadata": {},
   "source": [
    "#### Use \"sudo\" to Execute Commands as Root"
   ]
  },
  {
   "cell_type": "markdown",
   "metadata": {},
   "source": [
    "- The final, and most complex, way of obtaining root privileges that we will discuss is with the sudo command.\n",
    "\n",
    "- The sudo command allows you to execute one-off commands with root privileges, without the need to spawn a new shell. It is executed like this:"
   ]
  },
  {
   "cell_type": "markdown",
   "metadata": {},
   "source": [
    "sudo commnad_to_execute"
   ]
  },
  {
   "cell_type": "markdown",
   "metadata": {},
   "source": [
    "- Unlike su, the sudo command will request the password of the user calling the command, not the root password."
   ]
  },
  {
   "cell_type": "markdown",
   "metadata": {},
   "source": [
    "### What is Visudo?"
   ]
  },
  {
   "cell_type": "markdown",
   "metadata": {},
   "source": [
    "- The sudo command is configured through a file located at /etc/sudoers."
   ]
  },
  {
   "cell_type": "markdown",
   "metadata": {},
   "source": [
    "**Never edit this file with a normal text editor! Always use the visudo command instead!**"
   ]
  },
  {
   "cell_type": "markdown",
   "metadata": {},
   "source": [
    "- Because improper syntax in the /etc/sudoers file can leave you with a system where it is impossible to obtain elevated privileges, it is important to use the visudo command to edit the file."
   ]
  },
  {
   "cell_type": "markdown",
   "metadata": {},
   "source": [
    "- The visudo command opens a text editor like normal, but it validates the syntax of the file upon saving. This prevents configuration errors from blocking sudo operations, which may be your only way of obtaining root privileges."
   ]
  },
  {
   "cell_type": "markdown",
   "metadata": {},
   "source": [
    "- Traditionally, visudo opens the /etc/sudoers file with the vi text editor. Ubuntu, however, has configured visudo to use the nano text editor instead."
   ]
  },
  {
   "cell_type": "markdown",
   "metadata": {},
   "source": [
    "sudo update-alternatives --config editor"
   ]
  },
  {
   "cell_type": "markdown",
   "metadata": {},
   "source": [
    "Output\n",
    "There are 4 choices for the alternative editor (providing /usr/bin/editor).\n",
    "\n",
    "  Selection    Path                Priority   Status\n",
    "------------------------------------------------------------\n",
    "* 0            /bin/nano            40        auto mode\n",
    "  1            /bin/ed             -100       manual mode\n",
    "  2            /bin/nano            40        manual mode\n",
    "  3            /usr/bin/vim.basic   30        manual mode\n",
    "  4            /usr/bin/vim.tiny    10        manual mode\n",
    "\n",
    "Press <enter> to keep the current choice[*], or type selection number:"
   ]
  },
  {
   "cell_type": "markdown",
   "metadata": {},
   "source": [
    "- Select the number that corresponds with the choice you would like to make.\n",
    "\n",
    "- On CentOS, you can change this value by adding the following line to your ~/.bashrc:"
   ]
  },
  {
   "cell_type": "markdown",
   "metadata": {},
   "source": [
    "export EDITOR=`which name_of_editor`"
   ]
  },
  {
   "cell_type": "markdown",
   "metadata": {},
   "source": [
    ". ~/.bashrc"
   ]
  },
  {
   "cell_type": "markdown",
   "metadata": {},
   "source": [
    "- After you have configured visudo, execute the command to access the /etc/sudoers file:"
   ]
  },
  {
   "cell_type": "markdown",
   "metadata": {},
   "source": [
    "sudo visudo"
   ]
  },
  {
   "cell_type": "markdown",
   "metadata": {},
   "source": [
    "### How to modify the sudoers file"
   ]
  },
  {
   "cell_type": "markdown",
   "metadata": {},
   "source": [
    "/etc/sudoers\n",
    "\n",
    "Defaults        env_reset\n",
    "Defaults        mail_badpass\n",
    "Defaults        secure_path=\"/usr/local/sbin:/usr/local/bin:/usr/sbin:/usr/bin:/sbin:/bin\"\n",
    "\n",
    "root    ALL=(ALL:ALL) ALL\n",
    "\n",
    "%admin ALL=(ALL) ALL\n",
    "%sudo   ALL=(ALL:ALL) ALL\n",
    "\n",
    "#includedir /etc/sudoers.d"
   ]
  },
  {
   "cell_type": "markdown",
   "metadata": {},
   "source": [
    "#### Default Lines"
   ]
  },
  {
   "cell_type": "markdown",
   "metadata": {},
   "source": [
    "- The first line, \"Defaults env_reset\", resets the terminal environment to remove any user variables. This is a safety measure used to clear potentially harmful environmental variables from the sudo session."
   ]
  },
  {
   "cell_type": "markdown",
   "metadata": {},
   "source": [
    "# How To Install Nginx on Ubuntu 16.04\n",
    "- https://www.digitalocean.com/community/tutorials/how-to-install-nginx-on-ubuntu-16-04"
   ]
  },
  {
   "cell_type": "markdown",
   "metadata": {},
   "source": [
    "#### Intro"
   ]
  },
  {
   "cell_type": "markdown",
   "metadata": {},
   "source": [
    "- Nginx is one of the most popular web servers in the world and is responsible for hosting some of the largest and highest-traffic sites on the internet. It is more resource-friendly than Apache in most cases and can be used as a web server or a reverse proxy."
   ]
  },
  {
   "cell_type": "markdown",
   "metadata": {},
   "source": [
    "### Step 1: Install Nginx"
   ]
  },
  {
   "cell_type": "markdown",
   "metadata": {},
   "source": [
    "- Since this is our first interaction with the apt packaging system in this session, we will update our local package index so that we have access to the most recent package listings. Afterwards, we can install nginx:"
   ]
  },
  {
   "cell_type": "markdown",
   "metadata": {},
   "source": [
    "sudo apt-get update\n",
    "sudo apt-get install nginx"
   ]
  },
  {
   "cell_type": "markdown",
   "metadata": {},
   "source": [
    "### Step 2: Adjust the Firewall"
   ]
  },
  {
   "cell_type": "markdown",
   "metadata": {},
   "source": [
    "- Before we can test Nginx, we need to reconfigure our firewall software to allow access to the service. Nginx registers itself as a service with ufw, our firewall, upon insatllation. This makes it rather easy to allow Nginx access."
   ]
  },
  {
   "cell_type": "markdown",
   "metadata": {},
   "source": [
    "sudo ufw app list"
   ]
  },
  {
   "cell_type": "markdown",
   "metadata": {},
   "source": [
    "Output\n",
    "Available applications:\n",
    "  Nginx Full\n",
    "  Nginx HTTP\n",
    "  Nginx HTTPS\n",
    "  OpenSSH"
   ]
  },
  {
   "cell_type": "markdown",
   "metadata": {},
   "source": [
    "- Nginx Full : This profile opens both port 80 and port 443 (TLS, SSL encryted traffic)\n",
    "- Nginx HTTP : This profile opens only the port 80\n",
    "- Nginx HTTPS : This profile opens only port 443"
   ]
  },
  {
   "cell_type": "markdown",
   "metadata": {},
   "source": [
    "sudo ufw allow 'Nginx HTTP'"
   ]
  },
  {
   "cell_type": "markdown",
   "metadata": {},
   "source": [
    "### Step 3: Check your web server"
   ]
  },
  {
   "cell_type": "markdown",
   "metadata": {},
   "source": [
    "- At the end of the installation process, Ubuntu 16.04 starts Nginx. The web server should already be up and running."
   ]
  },
  {
   "cell_type": "markdown",
   "metadata": {},
   "source": [
    "- We can check with the systemd init system to make sure the service is running by typing."
   ]
  },
  {
   "cell_type": "markdown",
   "metadata": {},
   "source": [
    "systemctl status nginx"
   ]
  },
  {
   "cell_type": "markdown",
   "metadata": {},
   "source": [
    "- You can access the default Nginx landing page to confirm that the software is running properly. You can access this through your server's domain name or IP address."
   ]
  },
  {
   "cell_type": "markdown",
   "metadata": {},
   "source": [
    "- how to set domain \n",
    "- https://digitalocean.com/community/articles/how-to-set-up-a-host-name-with-digitalocean"
   ]
  },
  {
   "cell_type": "markdown",
   "metadata": {},
   "source": [
    "- If you do not know your server's IP address, you can get it a few different ways from the command line."
   ]
  },
  {
   "cell_type": "markdown",
   "metadata": {},
   "source": [
    "ip addr show eth0 | grep inet | awk '{ print $2; }' | sed 's/\\/.*$//'"
   ]
  },
  {
   "cell_type": "markdown",
   "metadata": {},
   "source": [
    "- An alternative is typing this, which should give you your public IP address as seen from another location on the internet:"
   ]
  },
  {
   "cell_type": "markdown",
   "metadata": {},
   "source": [
    "sudo apt-get install curl\n",
    "curl -4 icanhazip.com"
   ]
  },
  {
   "cell_type": "markdown",
   "metadata": {},
   "source": [
    "<img src=\"https://assets.digitalocean.com/articles/nginx_1604/default_page.png\">"
   ]
  },
  {
   "cell_type": "markdown",
   "metadata": {},
   "source": [
    "### Step 4: Manage the Nginx Process"
   ]
  },
  {
   "cell_type": "markdown",
   "metadata": {},
   "source": [
    "sudo systemctl stop nginx"
   ]
  },
  {
   "cell_type": "markdown",
   "metadata": {},
   "source": [
    "sudo systemctl start nginx"
   ]
  },
  {
   "cell_type": "markdown",
   "metadata": {},
   "source": [
    "sudo systemctl restart nginx"
   ]
  },
  {
   "cell_type": "markdown",
   "metadata": {},
   "source": [
    "- If you are simply making configuration changes, Nginx can often reload without dropping connections. To do this, this command can be used:"
   ]
  },
  {
   "cell_type": "markdown",
   "metadata": {},
   "source": [
    "sudo systemctl reload nginx"
   ]
  },
  {
   "cell_type": "markdown",
   "metadata": {},
   "source": [
    "- By default, Nginx is configured to start automatically when the server boots. If this is not what you want, you can diable this behavior by typing:"
   ]
  },
  {
   "cell_type": "markdown",
   "metadata": {},
   "source": [
    "sudo systemctl disable nginx"
   ]
  },
  {
   "cell_type": "markdown",
   "metadata": {},
   "source": [
    "### Step 5: Get familiar with important Nginx files and directories"
   ]
  },
  {
   "cell_type": "markdown",
   "metadata": {},
   "source": [
    "#### Content\n",
    "- /var/www/html: the actual web content, which by default only consists of the default Nginx page you saw earlier, is served out of the /var/www/html directory. This can be changed by altering Nginx configuration files."
   ]
  },
  {
   "cell_type": "markdown",
   "metadata": {},
   "source": [
    "#### Server Configuration\n",
    "- /etc/nginx: The Nginx configuration directory. All of the Nginx configuration files reside here.\n",
    "- /etc/nginx/nginx.conf: The main Nginx configuration file. This can be modified to make changes to the Nginx global configuration.\n",
    "- /etc/nginx/sites-available/: The directory where per-site \"server blocks\" can be stored. Nginx will not use the configuration files found in this directory unless they are linked to the sites-enabled directory. Typically, all server block configuration is done in this directory, and then enabled by linking to the other dorectory.\n",
    "- /etc/nginx/site-enabled/: The directory where enabled per-site \"server blocks\" are stored. Typically, these are created by linking to configuration files found in the sites-available directory.\n",
    "- /etc/nginx/snippets: This directory contains configuration fragments that can be included elsewhere in the Nginx confuguration. Potentially repeatable configuration segements are good candidates for refactoring into snippets."
   ]
  },
  {
   "cell_type": "markdown",
   "metadata": {},
   "source": [
    "#### Server Logs"
   ]
  },
  {
   "cell_type": "markdown",
   "metadata": {},
   "source": [
    "- /var/log/nginx/access.log: Every request to your web server is recorded in this log file unless Nginx is configured to do otherwise.\n",
    "\n",
    "- /var/log/nginx/error.log: Any nginx errors will be recorded in this log."
   ]
  },
  {
   "cell_type": "markdown",
   "metadata": {},
   "source": [
    "### Conclusion"
   ]
  },
  {
   "cell_type": "markdown",
   "metadata": {},
   "source": [
    "- Now that you have your web server installed, you have many options for the type of content to serve and the technologies you want to use to create a richer experience."
   ]
  },
  {
   "cell_type": "markdown",
   "metadata": {},
   "source": [
    "## Further on\n",
    "- https://www.digitalocean.com/community/tutorials/how-to-install-linux-nginx-mysql-php-lemp-stack-in-ubuntu-16-04\n",
    "- https://www.digitalocean.com/community/tutorials/an-introduction-to-useful-bash-aliases-and-functions\n",
    "- https://www.digitalocean.com/community/tutorials/how-to-set-up-nginx-server-blocks-virtual-hosts-on-ubuntu-16-04"
   ]
  },
  {
   "cell_type": "code",
   "execution_count": null,
   "metadata": {
    "collapsed": true
   },
   "outputs": [],
   "source": []
  },
  {
   "cell_type": "code",
   "execution_count": null,
   "metadata": {
    "collapsed": true
   },
   "outputs": [],
   "source": []
  },
  {
   "cell_type": "code",
   "execution_count": null,
   "metadata": {
    "collapsed": true
   },
   "outputs": [],
   "source": []
  },
  {
   "cell_type": "code",
   "execution_count": null,
   "metadata": {
    "collapsed": true
   },
   "outputs": [],
   "source": []
  }
 ],
 "metadata": {
  "kernelspec": {
   "display_name": "Python 3",
   "language": "python",
   "name": "python3"
  },
  "language_info": {
   "codemirror_mode": {
    "name": "ipython",
    "version": 3
   },
   "file_extension": ".py",
   "mimetype": "text/x-python",
   "name": "python",
   "nbconvert_exporter": "python",
   "pygments_lexer": "ipython3",
   "version": "3.6.2"
  }
 },
 "nbformat": 4,
 "nbformat_minor": 2
}
