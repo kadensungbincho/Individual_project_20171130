{
 "cells": [
  {
   "cell_type": "markdown",
   "metadata": {},
   "source": [
    "# Seoul Street Shop Restaurant Market Analysis"
   ]
  },
  {
   "cell_type": "markdown",
   "metadata": {},
   "source": [
    "## Modeling\n",
    "- data from naver and web (automation)\n",
    "- preprocessing(tags, coordinates transform) and mongoDB database\n",
    "- ** not sure about how to handle data between web and db, but I think that dataframe would be not that bad choice cause of further shapely handling with geopandas module **\n",
    "- market clustering and tags addition\n",
    "- cluster similarity & comparison\n",
    "- web display "
   ]
  },
  {
   "cell_type": "markdown",
   "metadata": {},
   "source": [
    "> ** Data ** : by updating term\n",
    "> - per week : franchise shop, \n",
    "> - per month : floating popul or infra data(bus stops, subway station)\n",
    "> - point, line, polygon\n",
    "\n",
    "> ** "
   ]
  },
  {
   "cell_type": "markdown",
   "metadata": {},
   "source": [
    "## 20171210 : GIS handling , clustering, datascience tech"
   ]
  },
  {
   "cell_type": "markdown",
   "metadata": {},
   "source": [
    "www.biz-gis.com , contour line "
   ]
  },
  {
   "cell_type": "markdown",
   "metadata": {},
   "source": [
    "## 20171212 : GIS handling, clustering, datascience\n",
    "- GIS seoul city mapping, shop mapping or xy to GeoDataFrame\n",
    "- Clustering : K-means and other comparing, silouetter feedback loop\n",
    "- Recommendation : basic algorithm based on Lee's, Cosine similarity(direction rather than distance) and knn"
   ]
  },
  {
   "cell_type": "markdown",
   "metadata": {},
   "source": [
    "- floating popul addition to make meaningful data"
   ]
  },
  {
   "cell_type": "code",
   "execution_count": 1,
   "metadata": {
    "collapsed": true
   },
   "outputs": [
    {
     "name": "stdout",
     "output_type": "stream",
     "text": [
      "0\n",
      "1\n",
      "2\n",
      "3\n",
      "4\n",
      "5\n",
      "6\n",
      "7\n",
      "8\n",
      "9\n"
     ]
    }
   ],
   "source": [
    "for i in range(10):\n",
    "    print(i)"
   ]
  },
  {
   "cell_type": "markdown",
   "metadata": {
    "collapsed": true
   },
   "source": [
    "# 20171213 : mapping, cluster algorithm, recommendation algorithm\n",
    "- how to cluster shops and other?\n",
    "- recommendation setting\n",
    "- systemizing : data api and automation to db, analyzing and clustering, recommendation process, basic web and map visualizing"
   ]
  },
  {
   "cell_type": "markdown",
   "metadata": {},
   "source": [
    "- k-means and silouette feedback to choose the number of classes"
   ]
  },
  {
   "cell_type": "markdown",
   "metadata": {
    "collapsed": true
   },
   "source": [
    "# 20171214 : Trouble shooting"
   ]
  },
  {
   "cell_type": "markdown",
   "metadata": {},
   "source": [
    "- 어필할 수 있는 것을 하는게 좋다\n",
    "# 이해하기 쉽게 설명해라\n",
    "# "
   ]
  },
  {
   "cell_type": "markdown",
   "metadata": {},
   "source": [
    "- API 후 데이터 전처리 방식\n",
    "- geo 데이터에서 컨트롤 방식, 좋은 모듈? \n",
    "- 그루핑하는 알고리즘, \n",
    "- 클러스터링 군집화 후, 군집별 레코멘데이션 가능성 여부, \n",
    "- 관련 기업 또는 산업 지형?\n",
    "- "
   ]
  },
  {
   "cell_type": "markdown",
   "metadata": {},
   "source": [
    "# 20171215 \n",
    "> - Clustering to cluster dataframe, how to analyze the efficiency of clustering?\n",
    "> - outlier check & incite, similarity\n",
    "> - Recommendation \n",
    "> - Folium and bokeh and flask & heroku"
   ]
  },
  {
   "cell_type": "code",
   "execution_count": null,
   "metadata": {
    "collapsed": true
   },
   "outputs": [],
   "source": []
  }
 ],
 "metadata": {
  "kernelspec": {
   "display_name": "Python 3",
   "language": "python",
   "name": "python3"
  },
  "language_info": {
   "codemirror_mode": {
    "name": "ipython",
    "version": 3
   },
   "file_extension": ".py",
   "mimetype": "text/x-python",
   "name": "python",
   "nbconvert_exporter": "python",
   "pygments_lexer": "ipython3",
   "version": "3.6.2"
  }
 },
 "nbformat": 4,
 "nbformat_minor": 2
}
